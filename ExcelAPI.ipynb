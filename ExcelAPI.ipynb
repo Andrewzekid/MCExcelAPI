{
  "nbformat": 4,
  "nbformat_minor": 0,
  "metadata": {
    "colab": {
      "name": "ExcelAPI.ipynb",
      "provenance": [],
      "collapsed_sections": [],
      "authorship_tag": "ABX9TyOdL0M9az/KX+PxaXilZtyW",
      "include_colab_link": true
    },
    "kernelspec": {
      "name": "python3",
      "display_name": "Python 3"
    },
    "language_info": {
      "name": "python"
    }
  },
  "cells": [
    {
      "cell_type": "markdown",
      "metadata": {
        "id": "view-in-github",
        "colab_type": "text"
      },
      "source": [
        "<a href=\"https://colab.research.google.com/github/Andrewzekid/MCExcelAPI/blob/main/ExcelAPI.ipynb\" target=\"_parent\"><img src=\"https://colab.research.google.com/assets/colab-badge.svg\" alt=\"Open In Colab\"/></a>"
      ]
    },
    {
      "cell_type": "code",
      "metadata": {
        "id": "zugmFLrplPGJ"
      },
      "source": [
        "import numpy as np\n",
        "import pandas as pd\n",
        "import math\n",
        "import datetime\n",
        "from openpyxl import Workbook"
      ],
      "execution_count": 4,
      "outputs": []
    },
    {
      "cell_type": "code",
      "metadata": {
        "id": "Hzx1YGeO6e9I"
      },
      "source": [
        "def clean_names(origional_name):\n",
        "  #removes any unwanted whitespace from a name\n",
        "  # \" Juri Mikoshiba \" turns into \"Juri Mikoshiba\"\n",
        "\n",
        "  split_on_whitespace = origional_name.split(\" \")\n",
        "  for i in split_on_whitespace:\n",
        "    i = i.replace(\"\\t\",\"\")\n",
        "    i = i.replace(\"\\n\",\"\")\n",
        "\n",
        "  name = [i for i in split_on_whitespace if i != \"\"]\n",
        "  cleaned_name = \" \".join(name)\n",
        "\n",
        "  return cleaned_name"
      ],
      "execution_count": 5,
      "outputs": []
    },
    {
      "cell_type": "code",
      "metadata": {
        "id": "lRF6ESU20mpn"
      },
      "source": [
        "def clean_df(df):\n",
        "  df[\"Name\"] = df.apply(lambda x: clean_names(x[\"Name\"]),axis=1)\n",
        "  df[\"Score\"] = df.apply(lambda x: clean_scores(x[\"Score\"]),axis=1)\n",
        "  df[\"Class\"] = df.apply(lambda x: clean_names(x[\"Class\"]),axis=1)\n",
        "\n",
        "  return df"
      ],
      "execution_count": 49,
      "outputs": []
    },
    {
      "cell_type": "code",
      "metadata": {
        "colab": {
          "base_uri": "https://localhost:8080/",
          "height": 166
        },
        "id": "Qy6YfqaL9QPj",
        "outputId": "f42164be-cdcc-4212-c6a8-14e0c3465df8"
      },
      "source": [
        "clean_df(df3)"
      ],
      "execution_count": 50,
      "outputs": [
        {
          "output_type": "error",
          "ename": "NameError",
          "evalue": "ignored",
          "traceback": [
            "\u001b[0;31m---------------------------------------------------------------------------\u001b[0m",
            "\u001b[0;31mNameError\u001b[0m                                 Traceback (most recent call last)",
            "\u001b[0;32m<ipython-input-50-de07b1a3826c>\u001b[0m in \u001b[0;36m<module>\u001b[0;34m()\u001b[0m\n\u001b[0;32m----> 1\u001b[0;31m \u001b[0mclean_df\u001b[0m\u001b[0;34m(\u001b[0m\u001b[0mdf3\u001b[0m\u001b[0;34m)\u001b[0m\u001b[0;34m\u001b[0m\u001b[0;34m\u001b[0m\u001b[0m\n\u001b[0m",
            "\u001b[0;31mNameError\u001b[0m: name 'df3' is not defined"
          ]
        }
      ]
    },
    {
      "cell_type": "code",
      "metadata": {
        "colab": {
          "base_uri": "https://localhost:8080/",
          "height": 35
        },
        "id": "-UyFpoWC_bfP",
        "outputId": "db32b4fa-0572-4840-f120-ef65187a75d3"
      },
      "source": [
        "clean_names(\"Arita Mana\")"
      ],
      "execution_count": 51,
      "outputs": [
        {
          "output_type": "execute_result",
          "data": {
            "application/vnd.google.colaboratory.intrinsic+json": {
              "type": "string"
            },
            "text/plain": [
              "'Arita Mana'"
            ]
          },
          "metadata": {},
          "execution_count": 51
        }
      ]
    },
    {
      "cell_type": "code",
      "metadata": {
        "colab": {
          "base_uri": "https://localhost:8080/",
          "height": 35
        },
        "id": "WcMuXFGu-2wf",
        "outputId": "d3213d9c-1a57-446a-a164-b3b3c2e3bf65"
      },
      "source": [
        "clean_names(\"Arita Mana Angelina\")"
      ],
      "execution_count": 52,
      "outputs": [
        {
          "output_type": "execute_result",
          "data": {
            "application/vnd.google.colaboratory.intrinsic+json": {
              "type": "string"
            },
            "text/plain": [
              "'Arita Mana Angelina'"
            ]
          },
          "metadata": {},
          "execution_count": 52
        }
      ]
    },
    {
      "cell_type": "code",
      "metadata": {
        "id": "bUI-2MdV608i"
      },
      "source": [
        "\n",
        "def clean_scores(origional_score):\n",
        "  #removes any unwanted whitespace from a score\n",
        "  if type(origional_score) == str:\n",
        "    #if the score is a string\n",
        "    #process a string (I.e: turn a score from \" 750 \" into 750)\n",
        "    origional_score = int(origional_score)\n",
        "\n",
        "  return origional_score"
      ],
      "execution_count": 53,
      "outputs": []
    },
    {
      "cell_type": "code",
      "metadata": {
        "id": "8RrnO6g-7WIz"
      },
      "source": [
        "def clean_grade_string(string):\n",
        "  #code to clean the strings for grade values i.e: \" 8A \" becomes \"G8A\"\n",
        "\n",
        "  #code to replace extra whitespaces\n",
        "  string = string.replace(\" \",\"\")\n",
        "  if \"G\" not in string:\n",
        "    string = \"G\" + string\n",
        "  return string"
      ],
      "execution_count": 54,
      "outputs": []
    },
    {
      "cell_type": "code",
      "metadata": {
        "id": "4QrYEtrInFig"
      },
      "source": [
        "SCORES_LIST = [750,500,250,100,100,100,100,100,100,100,100,100]\n",
        "#define the global variable \"Scores List\""
      ],
      "execution_count": 55,
      "outputs": []
    },
    {
      "cell_type": "code",
      "metadata": {
        "id": "bnlETDLPle7c"
      },
      "source": [
        "from openpyxl import load_workbook"
      ],
      "execution_count": 56,
      "outputs": []
    },
    {
      "cell_type": "code",
      "metadata": {
        "id": "Ug4whrqlnbcO"
      },
      "source": [
        "from openpyxl.utils import get_column_letter"
      ],
      "execution_count": 57,
      "outputs": []
    },
    {
      "cell_type": "code",
      "metadata": {
        "id": "XruBEAEF76bK"
      },
      "source": [
        "def read_excel_file(path,rowstart,rowend,colstart,colend):\n",
        "  \"\"\"\n",
        "  read(path,rowstart,rowend,colstart,colend)\n",
        "\n",
        "  Description: \n",
        "  Prints out the values from every cell within the rowstart,rowend,colstart,colend parameters, from a workbook that can be found via path.\n",
        "\n",
        "  Parameters:\n",
        "    Path(str):\n",
        "      path to the workbook\n",
        "    \n",
        "    rowstart,rowend(int):\n",
        "      indicate what rows to read from\n",
        "    \n",
        "    colstart,colend(int): \n",
        "      indicate what columns to read from\n",
        "\n",
        "  \"\"\"\n",
        "  wb = load_workbook(path)\n",
        "  ws = wb.active\n",
        "  for row in range(rowstart,rowend):\n",
        "    for column in range(colstart,colend):\n",
        "      col = get_column_letter(column)\n",
        "      print(ws[\"{}{}\".format(col,row)].value)\n",
        "    print(\"=====================================\")\n",
        "  df = pd.read_excel(path)\n",
        "  return wb,df\n"
      ],
      "execution_count": 58,
      "outputs": []
    },
    {
      "cell_type": "code",
      "metadata": {
        "colab": {
          "base_uri": "https://localhost:8080/"
        },
        "id": "0N1DiYwGvGqj",
        "outputId": "e9b0e20a-6223-4e31-93ac-bbb8a93ff868"
      },
      "source": [
        "wb,df = read_excel_file(\"Math Commitee Data (3).xlsx\",1,11,1,4)"
      ],
      "execution_count": 59,
      "outputs": [
        {
          "output_type": "stream",
          "name": "stdout",
          "text": [
            "Name\n",
            "Class\n",
            "Score\n",
            "=====================================\n",
            "Juri Mikoshiba\n",
            "G6A\n",
            "\t3000\n",
            "=====================================\n",
            "Manato Tanaka\n",
            "G6B\n",
            "3000\n",
            "=====================================\n",
            "Tyler Glanville\n",
            "G6A\n",
            "1350\n",
            "=====================================\n",
            "Divyansh Gupta\n",
            "G8A\n",
            "1100\n",
            "=====================================\n",
            "Shoukei Hada\n",
            "G6A\n",
            "250\n",
            "=====================================\n",
            "Ota Horii\n",
            "G6A\n",
            "\t200\n",
            "=====================================\n",
            "Yuvraj Jadia\n",
            "G6B\n",
            "100\n",
            "=====================================\n",
            "Arita Mana Angelina\n",
            "G6B\n",
            "100\n",
            "=====================================\n",
            "Shi Xintong\n",
            "G8B\n",
            "\t100\n",
            "=====================================\n"
          ]
        }
      ]
    },
    {
      "cell_type": "code",
      "metadata": {
        "colab": {
          "base_uri": "https://localhost:8080/",
          "height": 363
        },
        "id": "qmXdXdaCvVVA",
        "outputId": "16a6b12d-d7bf-4e98-ea1b-f71c1c25c9ec"
      },
      "source": [
        "df"
      ],
      "execution_count": 60,
      "outputs": [
        {
          "output_type": "execute_result",
          "data": {
            "text/html": [
              "<div>\n",
              "<style scoped>\n",
              "    .dataframe tbody tr th:only-of-type {\n",
              "        vertical-align: middle;\n",
              "    }\n",
              "\n",
              "    .dataframe tbody tr th {\n",
              "        vertical-align: top;\n",
              "    }\n",
              "\n",
              "    .dataframe thead th {\n",
              "        text-align: right;\n",
              "    }\n",
              "</style>\n",
              "<table border=\"1\" class=\"dataframe\">\n",
              "  <thead>\n",
              "    <tr style=\"text-align: right;\">\n",
              "      <th></th>\n",
              "      <th>Name</th>\n",
              "      <th>Class</th>\n",
              "      <th>Score</th>\n",
              "    </tr>\n",
              "  </thead>\n",
              "  <tbody>\n",
              "    <tr>\n",
              "      <th>0</th>\n",
              "      <td>Juri Mikoshiba</td>\n",
              "      <td>G6A</td>\n",
              "      <td>3000</td>\n",
              "    </tr>\n",
              "    <tr>\n",
              "      <th>1</th>\n",
              "      <td>Manato Tanaka</td>\n",
              "      <td>G6B</td>\n",
              "      <td>3000</td>\n",
              "    </tr>\n",
              "    <tr>\n",
              "      <th>2</th>\n",
              "      <td>Tyler Glanville</td>\n",
              "      <td>G6A</td>\n",
              "      <td>1350</td>\n",
              "    </tr>\n",
              "    <tr>\n",
              "      <th>3</th>\n",
              "      <td>Divyansh Gupta</td>\n",
              "      <td>G8A</td>\n",
              "      <td>1100</td>\n",
              "    </tr>\n",
              "    <tr>\n",
              "      <th>4</th>\n",
              "      <td>Shoukei Hada</td>\n",
              "      <td>G6A</td>\n",
              "      <td>250</td>\n",
              "    </tr>\n",
              "    <tr>\n",
              "      <th>5</th>\n",
              "      <td>Ota Horii</td>\n",
              "      <td>G6A</td>\n",
              "      <td>200</td>\n",
              "    </tr>\n",
              "    <tr>\n",
              "      <th>6</th>\n",
              "      <td>Yuvraj Jadia</td>\n",
              "      <td>G6B</td>\n",
              "      <td>100</td>\n",
              "    </tr>\n",
              "    <tr>\n",
              "      <th>7</th>\n",
              "      <td>Arita Mana Angelina</td>\n",
              "      <td>G6B</td>\n",
              "      <td>100</td>\n",
              "    </tr>\n",
              "    <tr>\n",
              "      <th>8</th>\n",
              "      <td>Shi Xintong</td>\n",
              "      <td>G8B</td>\n",
              "      <td>100</td>\n",
              "    </tr>\n",
              "    <tr>\n",
              "      <th>9</th>\n",
              "      <td>Zhang Tongxi</td>\n",
              "      <td>G7A</td>\n",
              "      <td>100</td>\n",
              "    </tr>\n",
              "  </tbody>\n",
              "</table>\n",
              "</div>"
            ],
            "text/plain": [
              "                  Name Class  Score\n",
              "0       Juri Mikoshiba   G6A   3000\n",
              "1        Manato Tanaka   G6B   3000\n",
              "2      Tyler Glanville   G6A   1350\n",
              "3       Divyansh Gupta   G8A   1100\n",
              "4         Shoukei Hada   G6A    250\n",
              "5            Ota Horii   G6A    200\n",
              "6         Yuvraj Jadia   G6B    100\n",
              "7  Arita Mana Angelina   G6B    100\n",
              "8          Shi Xintong   G8B    100\n",
              "9         Zhang Tongxi   G7A    100"
            ]
          },
          "metadata": {},
          "execution_count": 60
        }
      ]
    },
    {
      "cell_type": "code",
      "metadata": {
        "colab": {
          "base_uri": "https://localhost:8080/"
        },
        "id": "xFuOXkgTvVYD",
        "outputId": "fb49d170-c7e1-4cff-c057-499fc36d34af"
      },
      "source": [
        "wb1,df1 = read_excel_file(\"Math Commitee Week 6(1-5).xlsx\",1,4,1,20)"
      ],
      "execution_count": 69,
      "outputs": [
        {
          "output_type": "stream",
          "name": "stdout",
          "text": [
            "ID\n",
            "Start time\n",
            "Completion time\n",
            "Email\n",
            "Name\n",
            "Total points\n",
            "Quiz feedback\n",
            "Name (Please type your name)\n",
            "Points - Name (Please type your name)\n",
            "Feedback - Name (Please type your name)\n",
            "Homeroom\n",
            "Points - Homeroom\n",
            "Feedback - Homeroom\n",
            "Your answer\n",
            "Points - Your answer\n",
            "Feedback - Your answer\n",
            "(Optional) Your Working in text - It may be featured in the Daily Notices as the solution of the week!\n",
            "Points - (Optional) Your Working in text - It may be featured in the Daily Notices as the solution of the week!\n",
            "Feedback - (Optional) Your Working in text - It may be featured in the Daily Notices as the solution of the week!\n",
            "=====================================\n",
            "1\n",
            "2021-11-27 18:01:46.999998\n",
            "2021-11-27 18:06:55.999999\n",
            "anonymous\n",
            "None\n",
            "None\n",
            "None\n",
            "Manato Tanaka\n",
            "None\n",
            "None\n",
            "G6B\n",
            "None\n",
            "None\n",
            "11\n",
            "None\n",
            "None\n",
            "It says its optional but it's required so I'm writing this so I can submit.\n",
            "None\n",
            "None\n",
            "=====================================\n",
            "2\n",
            "2021-11-27 18:13:15.000001\n",
            "2021-11-27 18:14:10.999997\n",
            "anonymous\n",
            "None\n",
            "None\n",
            "None\n",
            "Manato Tanaka\n",
            "None\n",
            "None\n",
            "G6B\n",
            "None\n",
            "None\n",
            "11\n",
            "None\n",
            "None\n",
            "I think I already submited it but I can submit again, so I sumbit again just in case.\n",
            "None\n",
            "None\n",
            "=====================================\n"
          ]
        }
      ]
    },
    {
      "cell_type": "code",
      "metadata": {
        "colab": {
          "base_uri": "https://localhost:8080/",
          "height": 432
        },
        "id": "-tDENObY9ncC",
        "outputId": "c326d9e8-1ef4-4d07-f2cf-d4af515ed9ff"
      },
      "source": [
        "df1"
      ],
      "execution_count": 71,
      "outputs": [
        {
          "output_type": "execute_result",
          "data": {
            "text/html": [
              "<div>\n",
              "<style scoped>\n",
              "    .dataframe tbody tr th:only-of-type {\n",
              "        vertical-align: middle;\n",
              "    }\n",
              "\n",
              "    .dataframe tbody tr th {\n",
              "        vertical-align: top;\n",
              "    }\n",
              "\n",
              "    .dataframe thead th {\n",
              "        text-align: right;\n",
              "    }\n",
              "</style>\n",
              "<table border=\"1\" class=\"dataframe\">\n",
              "  <thead>\n",
              "    <tr style=\"text-align: right;\">\n",
              "      <th></th>\n",
              "      <th>ID</th>\n",
              "      <th>Start time</th>\n",
              "      <th>Completion time</th>\n",
              "      <th>Email</th>\n",
              "      <th>Name</th>\n",
              "      <th>Total points</th>\n",
              "      <th>Quiz feedback</th>\n",
              "      <th>Name (Please type your name)</th>\n",
              "      <th>Points - Name (Please type your name)</th>\n",
              "      <th>Feedback - Name (Please type your name)</th>\n",
              "      <th>Homeroom</th>\n",
              "      <th>Points - Homeroom</th>\n",
              "      <th>Feedback - Homeroom</th>\n",
              "      <th>Your answer</th>\n",
              "      <th>Points - Your answer</th>\n",
              "      <th>Feedback - Your answer</th>\n",
              "      <th>(Optional) Your Working in text - It may be featured in the Daily Notices as the solution of the week!</th>\n",
              "      <th>Points - (Optional) Your Working in text - It may be featured in the Daily Notices as the solution of the week!</th>\n",
              "      <th>Feedback - (Optional) Your Working in text - It may be featured in the Daily Notices as the solution of the week!</th>\n",
              "    </tr>\n",
              "  </thead>\n",
              "  <tbody>\n",
              "    <tr>\n",
              "      <th>0</th>\n",
              "      <td>1</td>\n",
              "      <td>2021-11-27 18:01:47</td>\n",
              "      <td>2021-11-27 18:06:56</td>\n",
              "      <td>anonymous</td>\n",
              "      <td>NaN</td>\n",
              "      <td>NaN</td>\n",
              "      <td>NaN</td>\n",
              "      <td>Manato Tanaka</td>\n",
              "      <td>NaN</td>\n",
              "      <td>NaN</td>\n",
              "      <td>G6B</td>\n",
              "      <td>NaN</td>\n",
              "      <td>NaN</td>\n",
              "      <td>11</td>\n",
              "      <td>NaN</td>\n",
              "      <td>NaN</td>\n",
              "      <td>It says its optional but it's required so I'm ...</td>\n",
              "      <td>NaN</td>\n",
              "      <td>NaN</td>\n",
              "    </tr>\n",
              "    <tr>\n",
              "      <th>1</th>\n",
              "      <td>2</td>\n",
              "      <td>2021-11-27 18:13:15</td>\n",
              "      <td>2021-11-27 18:14:11</td>\n",
              "      <td>anonymous</td>\n",
              "      <td>NaN</td>\n",
              "      <td>NaN</td>\n",
              "      <td>NaN</td>\n",
              "      <td>Manato Tanaka</td>\n",
              "      <td>NaN</td>\n",
              "      <td>NaN</td>\n",
              "      <td>G6B</td>\n",
              "      <td>NaN</td>\n",
              "      <td>NaN</td>\n",
              "      <td>11</td>\n",
              "      <td>NaN</td>\n",
              "      <td>NaN</td>\n",
              "      <td>I think I already submited it but I can submit...</td>\n",
              "      <td>NaN</td>\n",
              "      <td>NaN</td>\n",
              "    </tr>\n",
              "    <tr>\n",
              "      <th>2</th>\n",
              "      <td>3</td>\n",
              "      <td>2021-11-28 19:32:17</td>\n",
              "      <td>2021-11-28 20:08:50</td>\n",
              "      <td>anonymous</td>\n",
              "      <td>NaN</td>\n",
              "      <td>NaN</td>\n",
              "      <td>NaN</td>\n",
              "      <td>Juri Mikoshiba</td>\n",
              "      <td>NaN</td>\n",
              "      <td>NaN</td>\n",
              "      <td>G6A</td>\n",
              "      <td>NaN</td>\n",
              "      <td>NaN</td>\n",
              "      <td>11</td>\n",
              "      <td>NaN</td>\n",
              "      <td>NaN</td>\n",
              "      <td>First, change the required formula by making t...</td>\n",
              "      <td>NaN</td>\n",
              "      <td>NaN</td>\n",
              "    </tr>\n",
              "    <tr>\n",
              "      <th>3</th>\n",
              "      <td>4</td>\n",
              "      <td>2021-11-28 21:54:50</td>\n",
              "      <td>2021-11-28 21:55:47</td>\n",
              "      <td>anonymous</td>\n",
              "      <td>NaN</td>\n",
              "      <td>NaN</td>\n",
              "      <td>NaN</td>\n",
              "      <td>Divyansh Gupta</td>\n",
              "      <td>NaN</td>\n",
              "      <td>NaN</td>\n",
              "      <td>G8A</td>\n",
              "      <td>NaN</td>\n",
              "      <td>NaN</td>\n",
              "      <td>11</td>\n",
              "      <td>NaN</td>\n",
              "      <td>NaN</td>\n",
              "      <td>Um, I don't have any.</td>\n",
              "      <td>NaN</td>\n",
              "      <td>NaN</td>\n",
              "    </tr>\n",
              "    <tr>\n",
              "      <th>4</th>\n",
              "      <td>5</td>\n",
              "      <td>2021-11-29 11:35:48</td>\n",
              "      <td>2021-11-29 11:36:18</td>\n",
              "      <td>anonymous</td>\n",
              "      <td>NaN</td>\n",
              "      <td>NaN</td>\n",
              "      <td>NaN</td>\n",
              "      <td>Aryan Sokhiya</td>\n",
              "      <td>NaN</td>\n",
              "      <td>NaN</td>\n",
              "      <td>G9B</td>\n",
              "      <td>NaN</td>\n",
              "      <td>NaN</td>\n",
              "      <td>11</td>\n",
              "      <td>NaN</td>\n",
              "      <td>NaN</td>\n",
              "      <td>LOL</td>\n",
              "      <td>NaN</td>\n",
              "      <td>NaN</td>\n",
              "    </tr>\n",
              "  </tbody>\n",
              "</table>\n",
              "</div>"
            ],
            "text/plain": [
              "   ID  ... Feedback - (Optional) Your Working in text - It may be featured in the Daily Notices as the solution of the week!\n",
              "0   1  ...                                                NaN                                                               \n",
              "1   2  ...                                                NaN                                                               \n",
              "2   3  ...                                                NaN                                                               \n",
              "3   4  ...                                                NaN                                                               \n",
              "4   5  ...                                                NaN                                                               \n",
              "\n",
              "[5 rows x 19 columns]"
            ]
          },
          "metadata": {},
          "execution_count": 71
        }
      ]
    },
    {
      "cell_type": "code",
      "metadata": {
        "colab": {
          "base_uri": "https://localhost:8080/",
          "height": 432
        },
        "id": "52Ias6JevcdX",
        "outputId": "4ea2c5f0-4348-43ed-f156-fdccfe7923b6"
      },
      "source": [
        "df1"
      ],
      "execution_count": 62,
      "outputs": [
        {
          "output_type": "execute_result",
          "data": {
            "text/html": [
              "<div>\n",
              "<style scoped>\n",
              "    .dataframe tbody tr th:only-of-type {\n",
              "        vertical-align: middle;\n",
              "    }\n",
              "\n",
              "    .dataframe tbody tr th {\n",
              "        vertical-align: top;\n",
              "    }\n",
              "\n",
              "    .dataframe thead th {\n",
              "        text-align: right;\n",
              "    }\n",
              "</style>\n",
              "<table border=\"1\" class=\"dataframe\">\n",
              "  <thead>\n",
              "    <tr style=\"text-align: right;\">\n",
              "      <th></th>\n",
              "      <th>ID</th>\n",
              "      <th>Start time</th>\n",
              "      <th>Completion time</th>\n",
              "      <th>Email</th>\n",
              "      <th>Name</th>\n",
              "      <th>Total points</th>\n",
              "      <th>Quiz feedback</th>\n",
              "      <th>Name (Please type your name)</th>\n",
              "      <th>Points - Name (Please type your name)</th>\n",
              "      <th>Feedback - Name (Please type your name)</th>\n",
              "      <th>Homeroom</th>\n",
              "      <th>Points - Homeroom</th>\n",
              "      <th>Feedback - Homeroom</th>\n",
              "      <th>Your answer</th>\n",
              "      <th>Points - Your answer</th>\n",
              "      <th>Feedback - Your answer</th>\n",
              "      <th>(Optional) Your Working in text - It may be featured in the Daily Notices as the solution of the week!</th>\n",
              "      <th>Points - (Optional) Your Working in text - It may be featured in the Daily Notices as the solution of the week!</th>\n",
              "      <th>Feedback - (Optional) Your Working in text - It may be featured in the Daily Notices as the solution of the week!</th>\n",
              "    </tr>\n",
              "  </thead>\n",
              "  <tbody>\n",
              "    <tr>\n",
              "      <th>0</th>\n",
              "      <td>1</td>\n",
              "      <td>2021-11-27 18:01:47</td>\n",
              "      <td>2021-11-27 18:06:56</td>\n",
              "      <td>anonymous</td>\n",
              "      <td>NaN</td>\n",
              "      <td>NaN</td>\n",
              "      <td>NaN</td>\n",
              "      <td>Manato Tanaka</td>\n",
              "      <td>NaN</td>\n",
              "      <td>NaN</td>\n",
              "      <td>G6B</td>\n",
              "      <td>NaN</td>\n",
              "      <td>NaN</td>\n",
              "      <td>11</td>\n",
              "      <td>NaN</td>\n",
              "      <td>NaN</td>\n",
              "      <td>It says its optional but it's required so I'm ...</td>\n",
              "      <td>NaN</td>\n",
              "      <td>NaN</td>\n",
              "    </tr>\n",
              "    <tr>\n",
              "      <th>1</th>\n",
              "      <td>2</td>\n",
              "      <td>2021-11-27 18:13:15</td>\n",
              "      <td>2021-11-27 18:14:11</td>\n",
              "      <td>anonymous</td>\n",
              "      <td>NaN</td>\n",
              "      <td>NaN</td>\n",
              "      <td>NaN</td>\n",
              "      <td>Manato Tanaka</td>\n",
              "      <td>NaN</td>\n",
              "      <td>NaN</td>\n",
              "      <td>G6B</td>\n",
              "      <td>NaN</td>\n",
              "      <td>NaN</td>\n",
              "      <td>11</td>\n",
              "      <td>NaN</td>\n",
              "      <td>NaN</td>\n",
              "      <td>I think I already submited it but I can submit...</td>\n",
              "      <td>NaN</td>\n",
              "      <td>NaN</td>\n",
              "    </tr>\n",
              "    <tr>\n",
              "      <th>2</th>\n",
              "      <td>3</td>\n",
              "      <td>2021-11-28 19:32:17</td>\n",
              "      <td>2021-11-28 20:08:50</td>\n",
              "      <td>anonymous</td>\n",
              "      <td>NaN</td>\n",
              "      <td>NaN</td>\n",
              "      <td>NaN</td>\n",
              "      <td>Juri Mikoshiba</td>\n",
              "      <td>NaN</td>\n",
              "      <td>NaN</td>\n",
              "      <td>G6A</td>\n",
              "      <td>NaN</td>\n",
              "      <td>NaN</td>\n",
              "      <td>11</td>\n",
              "      <td>NaN</td>\n",
              "      <td>NaN</td>\n",
              "      <td>First, change the required formula by making t...</td>\n",
              "      <td>NaN</td>\n",
              "      <td>NaN</td>\n",
              "    </tr>\n",
              "    <tr>\n",
              "      <th>3</th>\n",
              "      <td>4</td>\n",
              "      <td>2021-11-28 21:54:50</td>\n",
              "      <td>2021-11-28 21:55:47</td>\n",
              "      <td>anonymous</td>\n",
              "      <td>NaN</td>\n",
              "      <td>NaN</td>\n",
              "      <td>NaN</td>\n",
              "      <td>Divyansh Gupta</td>\n",
              "      <td>NaN</td>\n",
              "      <td>NaN</td>\n",
              "      <td>G8A</td>\n",
              "      <td>NaN</td>\n",
              "      <td>NaN</td>\n",
              "      <td>11</td>\n",
              "      <td>NaN</td>\n",
              "      <td>NaN</td>\n",
              "      <td>Um, I don't have any.</td>\n",
              "      <td>NaN</td>\n",
              "      <td>NaN</td>\n",
              "    </tr>\n",
              "    <tr>\n",
              "      <th>4</th>\n",
              "      <td>5</td>\n",
              "      <td>2021-11-29 11:35:48</td>\n",
              "      <td>2021-11-29 11:36:18</td>\n",
              "      <td>anonymous</td>\n",
              "      <td>NaN</td>\n",
              "      <td>NaN</td>\n",
              "      <td>NaN</td>\n",
              "      <td>Aryan Sokhiya</td>\n",
              "      <td>NaN</td>\n",
              "      <td>NaN</td>\n",
              "      <td>G9B</td>\n",
              "      <td>NaN</td>\n",
              "      <td>NaN</td>\n",
              "      <td>11</td>\n",
              "      <td>NaN</td>\n",
              "      <td>NaN</td>\n",
              "      <td>LOL</td>\n",
              "      <td>NaN</td>\n",
              "      <td>NaN</td>\n",
              "    </tr>\n",
              "  </tbody>\n",
              "</table>\n",
              "</div>"
            ],
            "text/plain": [
              "   ID  ... Feedback - (Optional) Your Working in text - It may be featured in the Daily Notices as the solution of the week!\n",
              "0   1  ...                                                NaN                                                               \n",
              "1   2  ...                                                NaN                                                               \n",
              "2   3  ...                                                NaN                                                               \n",
              "3   4  ...                                                NaN                                                               \n",
              "4   5  ...                                                NaN                                                               \n",
              "\n",
              "[5 rows x 19 columns]"
            ]
          },
          "metadata": {},
          "execution_count": 62
        }
      ]
    },
    {
      "cell_type": "code",
      "metadata": {
        "id": "9gmibNW-vcfv"
      },
      "source": [
        "def process_results_file(path):\n",
        "  wb1,df1 = read_excel_file(path,1,10,1,20)\n",
        "  df1 = df1.dropna(axis=1)\n",
        "  df1 = df1.drop([\"Email\",\"Start time\",\"ID\",\"(Optional) Your Working in text - It may be featured in the Daily Notices as the solution of the week!\"],axis=1)\n",
        "  df1 = df1.drop_duplicates(subset=\"Name (Please type your name)\",keep=\"last\")\n",
        "  return df1"
      ],
      "execution_count": 63,
      "outputs": []
    },
    {
      "cell_type": "code",
      "metadata": {
        "id": "E6NmS9f78BdC"
      },
      "source": [
        "def check_answers_and_assign_scores(df,answer,booster=1):\n",
        "  correct_df_1 = df[df[\"Your answer\"] == answer]\n",
        "\n",
        "  #rename the \"Name\" column of the dataframe containing the info about the people who got the correct answers\n",
        "  correct_df = correct_df_1.rename({\"Name (Please type your name)\":\"Name\",\"Homeroom\":\"Class\"},axis=1)\n",
        "\n",
        "  #main code to assign the scores\n",
        "  correct_df[\"Completion time\"] = pd.to_datetime(correct_df[\"Completion time\"])\n",
        "  correct_df = correct_df.sort_values(\"Completion time\")\n",
        "  scores_to_be_used = SCORES_LIST[0:len(correct_df)] * booster\n",
        "  correct_df[\"Score\"] = scores_to_be_used\n",
        "  #as we no longer need the completion time and the answer columns anymore, drop them\n",
        "  correct_df = correct_df.drop([\"Completion time\",\"Your answer\"],axis=1)\n",
        "  correct_df = correct_df.reset_index()\n",
        "  correct_df = correct_df.drop(\"index\",axis=1)\n",
        "  print(correct_df)\n",
        "  return correct_df"
      ],
      "execution_count": 73,
      "outputs": []
    },
    {
      "cell_type": "code",
      "metadata": {
        "id": "LIkVt5Gl8LY0"
      },
      "source": [
        "def check_and_remove_descrepancies(df,df2):\n",
        "  indexes = list(df[\"Name\"])\n",
        "  indexes_new = list(df2[\"Name\"])\n",
        "  df = df.set_index(\"Name\")\n",
        "  df2 = df2.set_index(\"Name\")\n",
        "  print(indexes)\n",
        "  print(indexes_new)\n",
        "  print(df)\n",
        "  print(df2)\n",
        "  for i in range(len(indexes_new)):\n",
        "    #loop through the newly answered questions\n",
        "    if indexes_new[i] in indexes:\n",
        "      #the same person has answered another question\n",
        "      df.loc[indexes_new[i],\"Score\"] = df.loc[indexes_new[i],\"Score\"] + df2.loc[indexes_new[i],\"Score\"]\n",
        "    else:\n",
        "      \n",
        "      #a new person has answered\n",
        "      print(df2.loc[indexes_new[i]])\n",
        "      df = df.append(df2.loc[indexes_new[i]],ignore_index=False)\n",
        "  df = df.sort_values(\"Score\",ascending=False)\n",
        "  return df"
      ],
      "execution_count": 65,
      "outputs": []
    },
    {
      "cell_type": "code",
      "metadata": {
        "colab": {
          "base_uri": "https://localhost:8080/",
          "height": 1000
        },
        "id": "_76sQ-VR70iL",
        "outputId": "a00b538e-1501-4d1c-bfc2-a6d1a1391df5"
      },
      "source": [
        "process_results_file(\"Math Commitee Week 6(1-5).xlsx\")"
      ],
      "execution_count": 72,
      "outputs": [
        {
          "output_type": "stream",
          "name": "stdout",
          "text": [
            "ID\n",
            "Start time\n",
            "Completion time\n",
            "Email\n",
            "Name\n",
            "Total points\n",
            "Quiz feedback\n",
            "Name (Please type your name)\n",
            "Points - Name (Please type your name)\n",
            "Feedback - Name (Please type your name)\n",
            "Homeroom\n",
            "Points - Homeroom\n",
            "Feedback - Homeroom\n",
            "Your answer\n",
            "Points - Your answer\n",
            "Feedback - Your answer\n",
            "(Optional) Your Working in text - It may be featured in the Daily Notices as the solution of the week!\n",
            "Points - (Optional) Your Working in text - It may be featured in the Daily Notices as the solution of the week!\n",
            "Feedback - (Optional) Your Working in text - It may be featured in the Daily Notices as the solution of the week!\n",
            "=====================================\n",
            "1\n",
            "2021-11-27 18:01:46.999998\n",
            "2021-11-27 18:06:55.999999\n",
            "anonymous\n",
            "None\n",
            "None\n",
            "None\n",
            "Manato Tanaka\n",
            "None\n",
            "None\n",
            "G6B\n",
            "None\n",
            "None\n",
            "11\n",
            "None\n",
            "None\n",
            "It says its optional but it's required so I'm writing this so I can submit.\n",
            "None\n",
            "None\n",
            "=====================================\n",
            "2\n",
            "2021-11-27 18:13:15.000001\n",
            "2021-11-27 18:14:10.999997\n",
            "anonymous\n",
            "None\n",
            "None\n",
            "None\n",
            "Manato Tanaka\n",
            "None\n",
            "None\n",
            "G6B\n",
            "None\n",
            "None\n",
            "11\n",
            "None\n",
            "None\n",
            "I think I already submited it but I can submit again, so I sumbit again just in case.\n",
            "None\n",
            "None\n",
            "=====================================\n",
            "3\n",
            "2021-11-28 19:32:16.999996\n",
            "2021-11-28 20:08:50.000001\n",
            "anonymous\n",
            "None\n",
            "None\n",
            "None\n",
            "Juri Mikoshiba\n",
            "None\n",
            "None\n",
            "G6A\n",
            "None\n",
            "None\n",
            "11\n",
            "None\n",
            "None\n",
            "First, change the required formula by making the denominator ab. Then we know that the required formula can also be a^2-bc-c^2/ab. As we know that ab=2, this formula can be further expanded. So it would be 4(a+c)-bc/2. a+b+c equals to 6, so (a+c) can be 6-b. So the formula would be expanded into 24-4b-bc/2. Summarizing until now, a+c=6-b, a=4+c, b(4+c)=2, 4b+4c=2, bc=2-4b. 24-4b-2+4b/2=22/2=11. The answer is 11.\n",
            "None\n",
            "None\n",
            "=====================================\n",
            "4\n",
            "2021-11-28 21:54:50\n",
            "2021-11-28 21:55:46.999998\n",
            "anonymous\n",
            "None\n",
            "None\n",
            "None\n",
            "Divyansh Gupta\n",
            "None\n",
            "None\n",
            "G8A\n",
            "None\n",
            "None\n",
            "11\n",
            "None\n",
            "None\n",
            "Um, I don't have any. \n",
            "None\n",
            "None\n",
            "=====================================\n",
            "5\n",
            "2021-11-29 11:35:47.999996\n",
            "2021-11-29 11:36:18.000003\n",
            "anonymous\n",
            "None\n",
            "None\n",
            "None\n",
            "Aryan Sokhiya \n",
            "None\n",
            "None\n",
            "G9B\n",
            "None\n",
            "None\n",
            "11\n",
            "None\n",
            "None\n",
            "LOL\n",
            "None\n",
            "None\n",
            "=====================================\n",
            "None\n",
            "None\n",
            "None\n",
            "None\n",
            "None\n",
            "None\n",
            "None\n",
            "None\n",
            "None\n",
            "None\n",
            "None\n",
            "None\n",
            "None\n",
            "None\n",
            "None\n",
            "None\n",
            "None\n",
            "None\n",
            "None\n",
            "=====================================\n",
            "None\n",
            "None\n",
            "None\n",
            "None\n",
            "None\n",
            "None\n",
            "None\n",
            "None\n",
            "None\n",
            "None\n",
            "None\n",
            "None\n",
            "None\n",
            "None\n",
            "None\n",
            "None\n",
            "None\n",
            "None\n",
            "None\n",
            "=====================================\n",
            "None\n",
            "None\n",
            "None\n",
            "None\n",
            "None\n",
            "None\n",
            "None\n",
            "None\n",
            "None\n",
            "None\n",
            "None\n",
            "None\n",
            "None\n",
            "None\n",
            "None\n",
            "None\n",
            "None\n",
            "None\n",
            "None\n",
            "=====================================\n"
          ]
        },
        {
          "output_type": "execute_result",
          "data": {
            "text/html": [
              "<div>\n",
              "<style scoped>\n",
              "    .dataframe tbody tr th:only-of-type {\n",
              "        vertical-align: middle;\n",
              "    }\n",
              "\n",
              "    .dataframe tbody tr th {\n",
              "        vertical-align: top;\n",
              "    }\n",
              "\n",
              "    .dataframe thead th {\n",
              "        text-align: right;\n",
              "    }\n",
              "</style>\n",
              "<table border=\"1\" class=\"dataframe\">\n",
              "  <thead>\n",
              "    <tr style=\"text-align: right;\">\n",
              "      <th></th>\n",
              "      <th>Completion time</th>\n",
              "      <th>Name (Please type your name)</th>\n",
              "      <th>Homeroom</th>\n",
              "      <th>Your answer</th>\n",
              "    </tr>\n",
              "  </thead>\n",
              "  <tbody>\n",
              "    <tr>\n",
              "      <th>1</th>\n",
              "      <td>2021-11-27 18:14:11</td>\n",
              "      <td>Manato Tanaka</td>\n",
              "      <td>G6B</td>\n",
              "      <td>11</td>\n",
              "    </tr>\n",
              "    <tr>\n",
              "      <th>2</th>\n",
              "      <td>2021-11-28 20:08:50</td>\n",
              "      <td>Juri Mikoshiba</td>\n",
              "      <td>G6A</td>\n",
              "      <td>11</td>\n",
              "    </tr>\n",
              "    <tr>\n",
              "      <th>3</th>\n",
              "      <td>2021-11-28 21:55:47</td>\n",
              "      <td>Divyansh Gupta</td>\n",
              "      <td>G8A</td>\n",
              "      <td>11</td>\n",
              "    </tr>\n",
              "    <tr>\n",
              "      <th>4</th>\n",
              "      <td>2021-11-29 11:36:18</td>\n",
              "      <td>Aryan Sokhiya</td>\n",
              "      <td>G9B</td>\n",
              "      <td>11</td>\n",
              "    </tr>\n",
              "  </tbody>\n",
              "</table>\n",
              "</div>"
            ],
            "text/plain": [
              "      Completion time Name (Please type your name) Homeroom  Your answer\n",
              "1 2021-11-27 18:14:11                Manato Tanaka      G6B           11\n",
              "2 2021-11-28 20:08:50               Juri Mikoshiba      G6A           11\n",
              "3 2021-11-28 21:55:47               Divyansh Gupta      G8A           11\n",
              "4 2021-11-29 11:36:18               Aryan Sokhiya       G9B           11"
            ]
          },
          "metadata": {},
          "execution_count": 72
        }
      ]
    },
    {
      "cell_type": "code",
      "metadata": {
        "id": "B4cCLXcVt2QG"
      },
      "source": [
        "def update_leaderboard(path_to_leaderboard,path_to_new_data,answer,booster=1):\n",
        "  wb,df1 = read_excel_file(path_to_leaderboard,1,11,1,4)\n",
        "  df1 = clean_df(df1)\n",
        "  # df1 = clean_df(df1)\n",
        "  \n",
        "  #after we have processed the leaderboard dataframe, process the dataframe containing the new submissions\n",
        "  df3 = process_results_file(path_to_new_data)\n",
        "  df3 = check_answers_and_assign_scores(df3,answer=answer,booster=booster)\n",
        "  df3 = clean_df(df3)\n",
        "  print(df3)\n",
        "\n",
        "  final_df = check_and_remove_descrepancies(df1,df3)\n",
        "  #it is now done!!1\n",
        "  return final_df"
      ],
      "execution_count": 74,
      "outputs": []
    },
    {
      "cell_type": "code",
      "metadata": {
        "colab": {
          "base_uri": "https://localhost:8080/"
        },
        "id": "IXalWUJruz7I",
        "outputId": "65c15097-4b46-4491-df3c-19580accd1d2"
      },
      "source": [
        "final_df = update_leaderboard(\"Math Commitee Data (3).xlsx\",\"Math Commitee Week 6(1-5).xlsx\",answer=11)"
      ],
      "execution_count": 75,
      "outputs": [
        {
          "output_type": "stream",
          "name": "stdout",
          "text": [
            "Name\n",
            "Class\n",
            "Score\n",
            "=====================================\n",
            "Juri Mikoshiba\n",
            "G6A\n",
            "\t3000\n",
            "=====================================\n",
            "Manato Tanaka\n",
            "G6B\n",
            "3000\n",
            "=====================================\n",
            "Tyler Glanville\n",
            "G6A\n",
            "1350\n",
            "=====================================\n",
            "Divyansh Gupta\n",
            "G8A\n",
            "1100\n",
            "=====================================\n",
            "Shoukei Hada\n",
            "G6A\n",
            "250\n",
            "=====================================\n",
            "Ota Horii\n",
            "G6A\n",
            "\t200\n",
            "=====================================\n",
            "Yuvraj Jadia\n",
            "G6B\n",
            "100\n",
            "=====================================\n",
            "Arita Mana Angelina\n",
            "G6B\n",
            "100\n",
            "=====================================\n",
            "Shi Xintong\n",
            "G8B\n",
            "\t100\n",
            "=====================================\n",
            "ID\n",
            "Start time\n",
            "Completion time\n",
            "Email\n",
            "Name\n",
            "Total points\n",
            "Quiz feedback\n",
            "Name (Please type your name)\n",
            "Points - Name (Please type your name)\n",
            "Feedback - Name (Please type your name)\n",
            "Homeroom\n",
            "Points - Homeroom\n",
            "Feedback - Homeroom\n",
            "Your answer\n",
            "Points - Your answer\n",
            "Feedback - Your answer\n",
            "(Optional) Your Working in text - It may be featured in the Daily Notices as the solution of the week!\n",
            "Points - (Optional) Your Working in text - It may be featured in the Daily Notices as the solution of the week!\n",
            "Feedback - (Optional) Your Working in text - It may be featured in the Daily Notices as the solution of the week!\n",
            "=====================================\n",
            "1\n",
            "2021-11-27 18:01:46.999998\n",
            "2021-11-27 18:06:55.999999\n",
            "anonymous\n",
            "None\n",
            "None\n",
            "None\n",
            "Manato Tanaka\n",
            "None\n",
            "None\n",
            "G6B\n",
            "None\n",
            "None\n",
            "11\n",
            "None\n",
            "None\n",
            "It says its optional but it's required so I'm writing this so I can submit.\n",
            "None\n",
            "None\n",
            "=====================================\n",
            "2\n",
            "2021-11-27 18:13:15.000001\n",
            "2021-11-27 18:14:10.999997\n",
            "anonymous\n",
            "None\n",
            "None\n",
            "None\n",
            "Manato Tanaka\n",
            "None\n",
            "None\n",
            "G6B\n",
            "None\n",
            "None\n",
            "11\n",
            "None\n",
            "None\n",
            "I think I already submited it but I can submit again, so I sumbit again just in case.\n",
            "None\n",
            "None\n",
            "=====================================\n",
            "3\n",
            "2021-11-28 19:32:16.999996\n",
            "2021-11-28 20:08:50.000001\n",
            "anonymous\n",
            "None\n",
            "None\n",
            "None\n",
            "Juri Mikoshiba\n",
            "None\n",
            "None\n",
            "G6A\n",
            "None\n",
            "None\n",
            "11\n",
            "None\n",
            "None\n",
            "First, change the required formula by making the denominator ab. Then we know that the required formula can also be a^2-bc-c^2/ab. As we know that ab=2, this formula can be further expanded. So it would be 4(a+c)-bc/2. a+b+c equals to 6, so (a+c) can be 6-b. So the formula would be expanded into 24-4b-bc/2. Summarizing until now, a+c=6-b, a=4+c, b(4+c)=2, 4b+4c=2, bc=2-4b. 24-4b-2+4b/2=22/2=11. The answer is 11.\n",
            "None\n",
            "None\n",
            "=====================================\n",
            "4\n",
            "2021-11-28 21:54:50\n",
            "2021-11-28 21:55:46.999998\n",
            "anonymous\n",
            "None\n",
            "None\n",
            "None\n",
            "Divyansh Gupta\n",
            "None\n",
            "None\n",
            "G8A\n",
            "None\n",
            "None\n",
            "11\n",
            "None\n",
            "None\n",
            "Um, I don't have any. \n",
            "None\n",
            "None\n",
            "=====================================\n",
            "5\n",
            "2021-11-29 11:35:47.999996\n",
            "2021-11-29 11:36:18.000003\n",
            "anonymous\n",
            "None\n",
            "None\n",
            "None\n",
            "Aryan Sokhiya \n",
            "None\n",
            "None\n",
            "G9B\n",
            "None\n",
            "None\n",
            "11\n",
            "None\n",
            "None\n",
            "LOL\n",
            "None\n",
            "None\n",
            "=====================================\n",
            "None\n",
            "None\n",
            "None\n",
            "None\n",
            "None\n",
            "None\n",
            "None\n",
            "None\n",
            "None\n",
            "None\n",
            "None\n",
            "None\n",
            "None\n",
            "None\n",
            "None\n",
            "None\n",
            "None\n",
            "None\n",
            "None\n",
            "=====================================\n",
            "None\n",
            "None\n",
            "None\n",
            "None\n",
            "None\n",
            "None\n",
            "None\n",
            "None\n",
            "None\n",
            "None\n",
            "None\n",
            "None\n",
            "None\n",
            "None\n",
            "None\n",
            "None\n",
            "None\n",
            "None\n",
            "None\n",
            "=====================================\n",
            "None\n",
            "None\n",
            "None\n",
            "None\n",
            "None\n",
            "None\n",
            "None\n",
            "None\n",
            "None\n",
            "None\n",
            "None\n",
            "None\n",
            "None\n",
            "None\n",
            "None\n",
            "None\n",
            "None\n",
            "None\n",
            "None\n",
            "=====================================\n",
            "             Name Class  Score\n",
            "0   Manato Tanaka   G6B    750\n",
            "1  Juri Mikoshiba   G6A    500\n",
            "2  Divyansh Gupta   G8A    250\n",
            "3  Aryan Sokhiya    G9B    100\n",
            "             Name Class  Score\n",
            "0   Manato Tanaka   G6B    750\n",
            "1  Juri Mikoshiba   G6A    500\n",
            "2  Divyansh Gupta   G8A    250\n",
            "3   Aryan Sokhiya   G9B    100\n",
            "['Juri Mikoshiba', 'Manato Tanaka', 'Tyler Glanville', 'Divyansh Gupta', 'Shoukei Hada', 'Ota Horii', 'Yuvraj Jadia', 'Arita Mana Angelina', 'Shi Xintong', 'Zhang Tongxi']\n",
            "['Manato Tanaka', 'Juri Mikoshiba', 'Divyansh Gupta', 'Aryan Sokhiya']\n",
            "                    Class  Score\n",
            "Name                            \n",
            "Juri Mikoshiba        G6A   3000\n",
            "Manato Tanaka         G6B   3000\n",
            "Tyler Glanville       G6A   1350\n",
            "Divyansh Gupta        G8A   1100\n",
            "Shoukei Hada          G6A    250\n",
            "Ota Horii             G6A    200\n",
            "Yuvraj Jadia          G6B    100\n",
            "Arita Mana Angelina   G6B    100\n",
            "Shi Xintong           G8B    100\n",
            "Zhang Tongxi          G7A    100\n",
            "               Class  Score\n",
            "Name                       \n",
            "Manato Tanaka    G6B    750\n",
            "Juri Mikoshiba   G6A    500\n",
            "Divyansh Gupta   G8A    250\n",
            "Aryan Sokhiya    G9B    100\n",
            "Class    G9B\n",
            "Score    100\n",
            "Name: Aryan Sokhiya, dtype: object\n"
          ]
        }
      ]
    },
    {
      "cell_type": "code",
      "metadata": {
        "colab": {
          "base_uri": "https://localhost:8080/",
          "height": 425
        },
        "id": "f1Iko_Fnu_3v",
        "outputId": "02f5767f-5893-4948-f77d-9b67c30322f9"
      },
      "source": [
        "final_df"
      ],
      "execution_count": 76,
      "outputs": [
        {
          "output_type": "execute_result",
          "data": {
            "text/html": [
              "<div>\n",
              "<style scoped>\n",
              "    .dataframe tbody tr th:only-of-type {\n",
              "        vertical-align: middle;\n",
              "    }\n",
              "\n",
              "    .dataframe tbody tr th {\n",
              "        vertical-align: top;\n",
              "    }\n",
              "\n",
              "    .dataframe thead th {\n",
              "        text-align: right;\n",
              "    }\n",
              "</style>\n",
              "<table border=\"1\" class=\"dataframe\">\n",
              "  <thead>\n",
              "    <tr style=\"text-align: right;\">\n",
              "      <th></th>\n",
              "      <th>Class</th>\n",
              "      <th>Score</th>\n",
              "    </tr>\n",
              "    <tr>\n",
              "      <th>Name</th>\n",
              "      <th></th>\n",
              "      <th></th>\n",
              "    </tr>\n",
              "  </thead>\n",
              "  <tbody>\n",
              "    <tr>\n",
              "      <th>Manato Tanaka</th>\n",
              "      <td>G6B</td>\n",
              "      <td>3750</td>\n",
              "    </tr>\n",
              "    <tr>\n",
              "      <th>Juri Mikoshiba</th>\n",
              "      <td>G6A</td>\n",
              "      <td>3500</td>\n",
              "    </tr>\n",
              "    <tr>\n",
              "      <th>Tyler Glanville</th>\n",
              "      <td>G6A</td>\n",
              "      <td>1350</td>\n",
              "    </tr>\n",
              "    <tr>\n",
              "      <th>Divyansh Gupta</th>\n",
              "      <td>G8A</td>\n",
              "      <td>1350</td>\n",
              "    </tr>\n",
              "    <tr>\n",
              "      <th>Shoukei Hada</th>\n",
              "      <td>G6A</td>\n",
              "      <td>250</td>\n",
              "    </tr>\n",
              "    <tr>\n",
              "      <th>Ota Horii</th>\n",
              "      <td>G6A</td>\n",
              "      <td>200</td>\n",
              "    </tr>\n",
              "    <tr>\n",
              "      <th>Yuvraj Jadia</th>\n",
              "      <td>G6B</td>\n",
              "      <td>100</td>\n",
              "    </tr>\n",
              "    <tr>\n",
              "      <th>Arita Mana Angelina</th>\n",
              "      <td>G6B</td>\n",
              "      <td>100</td>\n",
              "    </tr>\n",
              "    <tr>\n",
              "      <th>Shi Xintong</th>\n",
              "      <td>G8B</td>\n",
              "      <td>100</td>\n",
              "    </tr>\n",
              "    <tr>\n",
              "      <th>Zhang Tongxi</th>\n",
              "      <td>G7A</td>\n",
              "      <td>100</td>\n",
              "    </tr>\n",
              "    <tr>\n",
              "      <th>Aryan Sokhiya</th>\n",
              "      <td>G9B</td>\n",
              "      <td>100</td>\n",
              "    </tr>\n",
              "  </tbody>\n",
              "</table>\n",
              "</div>"
            ],
            "text/plain": [
              "                    Class  Score\n",
              "Name                            \n",
              "Manato Tanaka         G6B   3750\n",
              "Juri Mikoshiba        G6A   3500\n",
              "Tyler Glanville       G6A   1350\n",
              "Divyansh Gupta        G8A   1350\n",
              "Shoukei Hada          G6A    250\n",
              "Ota Horii             G6A    200\n",
              "Yuvraj Jadia          G6B    100\n",
              "Arita Mana Angelina   G6B    100\n",
              "Shi Xintong           G8B    100\n",
              "Zhang Tongxi          G7A    100\n",
              "Aryan Sokhiya         G9B    100"
            ]
          },
          "metadata": {},
          "execution_count": 76
        }
      ]
    },
    {
      "cell_type": "code",
      "metadata": {
        "id": "h-gyYpvzhf3y"
      },
      "source": [
        "import re"
      ],
      "execution_count": 29,
      "outputs": []
    },
    {
      "cell_type": "code",
      "metadata": {
        "id": "iV64OwMehceB"
      },
      "source": [
        ""
      ],
      "execution_count": 29,
      "outputs": []
    },
    {
      "cell_type": "code",
      "metadata": {
        "colab": {
          "base_uri": "https://localhost:8080/",
          "height": 35
        },
        "id": "d4qitkomh2g7",
        "outputId": "4064dc2e-bc97-47e6-f84a-7e4d5280a7c1"
      },
      "source": [
        "clean_grade_string(\" 9A \")\n",
        "#normally the whitespace in \" 9A \" would ca"
      ],
      "execution_count": 30,
      "outputs": [
        {
          "output_type": "execute_result",
          "data": {
            "application/vnd.google.colaboratory.intrinsic+json": {
              "type": "string"
            },
            "text/plain": [
              "'G9A'"
            ]
          },
          "metadata": {},
          "execution_count": 30
        }
      ]
    },
    {
      "cell_type": "code",
      "metadata": {
        "id": "1zQj5Ly2pRqx",
        "colab": {
          "base_uri": "https://localhost:8080/"
        },
        "outputId": "87c5830d-e623-4ba8-ff0d-9e11debcbbe0"
      },
      "source": [
        "wb,df = read_excel_file(\"Math Commitee Data (3).xlsx\",1,11,1,4)"
      ],
      "execution_count": 31,
      "outputs": [
        {
          "output_type": "stream",
          "name": "stdout",
          "text": [
            "Name\n",
            "Class\n",
            "Score\n",
            "=====================================\n",
            "Juri Mikoshiba\n",
            "G6A\n",
            "\t3000\n",
            "=====================================\n",
            "Manato Tanaka\n",
            "G6B\n",
            "3000\n",
            "=====================================\n",
            "Tyler Glanville\n",
            "G6A\n",
            "1350\n",
            "=====================================\n",
            "Divyansh Gupta\n",
            "G8A\n",
            "1100\n",
            "=====================================\n",
            "Shoukei Hada\n",
            "G6A\n",
            "250\n",
            "=====================================\n",
            "Ota Horii\n",
            "G6A\n",
            "\t200\n",
            "=====================================\n",
            "Yuvraj Jadia\n",
            "G6B\n",
            "100\n",
            "=====================================\n",
            "Arita Mana Angelina\n",
            "G6B\n",
            "100\n",
            "=====================================\n",
            "Shi Xintong\n",
            "G8B\n",
            "\t100\n",
            "=====================================\n"
          ]
        }
      ]
    },
    {
      "cell_type": "code",
      "metadata": {
        "id": "8tC60nyLo5At"
      },
      "source": [
        ""
      ],
      "execution_count": 31,
      "outputs": []
    },
    {
      "cell_type": "code",
      "metadata": {
        "colab": {
          "base_uri": "https://localhost:8080/"
        },
        "id": "AELfPgJ3k9fq",
        "outputId": "6829c622-0600-4844-a855-5f24d50fc01f"
      },
      "source": [
        "df2 = process_results_file(\"Math Commitee Week 6(1-5).xlsx\")"
      ],
      "execution_count": 32,
      "outputs": [
        {
          "output_type": "stream",
          "name": "stdout",
          "text": [
            "ID\n",
            "Start time\n",
            "Completion time\n",
            "Email\n",
            "Name\n",
            "Total points\n",
            "Quiz feedback\n",
            "Name (Please type your name)\n",
            "Points - Name (Please type your name)\n",
            "Feedback - Name (Please type your name)\n",
            "Homeroom\n",
            "Points - Homeroom\n",
            "Feedback - Homeroom\n",
            "Your answer\n",
            "Points - Your answer\n",
            "Feedback - Your answer\n",
            "(Optional) Your Working in text - It may be featured in the Daily Notices as the solution of the week!\n",
            "Points - (Optional) Your Working in text - It may be featured in the Daily Notices as the solution of the week!\n",
            "Feedback - (Optional) Your Working in text - It may be featured in the Daily Notices as the solution of the week!\n",
            "=====================================\n",
            "1\n",
            "2021-11-27 18:01:46.999998\n",
            "2021-11-27 18:06:55.999999\n",
            "anonymous\n",
            "None\n",
            "None\n",
            "None\n",
            "Manato Tanaka\n",
            "None\n",
            "None\n",
            "G6B\n",
            "None\n",
            "None\n",
            "11\n",
            "None\n",
            "None\n",
            "It says its optional but it's required so I'm writing this so I can submit.\n",
            "None\n",
            "None\n",
            "=====================================\n",
            "2\n",
            "2021-11-27 18:13:15.000001\n",
            "2021-11-27 18:14:10.999997\n",
            "anonymous\n",
            "None\n",
            "None\n",
            "None\n",
            "Manato Tanaka\n",
            "None\n",
            "None\n",
            "G6B\n",
            "None\n",
            "None\n",
            "11\n",
            "None\n",
            "None\n",
            "I think I already submited it but I can submit again, so I sumbit again just in case.\n",
            "None\n",
            "None\n",
            "=====================================\n",
            "3\n",
            "2021-11-28 19:32:16.999996\n",
            "2021-11-28 20:08:50.000001\n",
            "anonymous\n",
            "None\n",
            "None\n",
            "None\n",
            "Juri Mikoshiba\n",
            "None\n",
            "None\n",
            "G6A\n",
            "None\n",
            "None\n",
            "11\n",
            "None\n",
            "None\n",
            "First, change the required formula by making the denominator ab. Then we know that the required formula can also be a^2-bc-c^2/ab. As we know that ab=2, this formula can be further expanded. So it would be 4(a+c)-bc/2. a+b+c equals to 6, so (a+c) can be 6-b. So the formula would be expanded into 24-4b-bc/2. Summarizing until now, a+c=6-b, a=4+c, b(4+c)=2, 4b+4c=2, bc=2-4b. 24-4b-2+4b/2=22/2=11. The answer is 11.\n",
            "None\n",
            "None\n",
            "=====================================\n",
            "4\n",
            "2021-11-28 21:54:50\n",
            "2021-11-28 21:55:46.999998\n",
            "anonymous\n",
            "None\n",
            "None\n",
            "None\n",
            "Divyansh Gupta\n",
            "None\n",
            "None\n",
            "G8A\n",
            "None\n",
            "None\n",
            "11\n",
            "None\n",
            "None\n",
            "Um, I don't have any. \n",
            "None\n",
            "None\n",
            "=====================================\n",
            "5\n",
            "2021-11-29 11:35:47.999996\n",
            "2021-11-29 11:36:18.000003\n",
            "anonymous\n",
            "None\n",
            "None\n",
            "None\n",
            "Aryan Sokhiya \n",
            "None\n",
            "None\n",
            "G9B\n",
            "None\n",
            "None\n",
            "11\n",
            "None\n",
            "None\n",
            "LOL\n",
            "None\n",
            "None\n",
            "=====================================\n",
            "None\n",
            "None\n",
            "None\n",
            "None\n",
            "None\n",
            "None\n",
            "None\n",
            "None\n",
            "None\n",
            "None\n",
            "None\n",
            "None\n",
            "None\n",
            "None\n",
            "None\n",
            "None\n",
            "None\n",
            "None\n",
            "None\n",
            "=====================================\n",
            "None\n",
            "None\n",
            "None\n",
            "None\n",
            "None\n",
            "None\n",
            "None\n",
            "None\n",
            "None\n",
            "None\n",
            "None\n",
            "None\n",
            "None\n",
            "None\n",
            "None\n",
            "None\n",
            "None\n",
            "None\n",
            "None\n",
            "=====================================\n",
            "None\n",
            "None\n",
            "None\n",
            "None\n",
            "None\n",
            "None\n",
            "None\n",
            "None\n",
            "None\n",
            "None\n",
            "None\n",
            "None\n",
            "None\n",
            "None\n",
            "None\n",
            "None\n",
            "None\n",
            "None\n",
            "None\n",
            "=====================================\n"
          ]
        }
      ]
    },
    {
      "cell_type": "code",
      "metadata": {
        "colab": {
          "base_uri": "https://localhost:8080/",
          "height": 175
        },
        "id": "RARwo-60lCeq",
        "outputId": "4caf67c3-dac1-4641-88c6-efe46677ebe4"
      },
      "source": [
        "df2"
      ],
      "execution_count": 33,
      "outputs": [
        {
          "output_type": "execute_result",
          "data": {
            "text/html": [
              "<div>\n",
              "<style scoped>\n",
              "    .dataframe tbody tr th:only-of-type {\n",
              "        vertical-align: middle;\n",
              "    }\n",
              "\n",
              "    .dataframe tbody tr th {\n",
              "        vertical-align: top;\n",
              "    }\n",
              "\n",
              "    .dataframe thead th {\n",
              "        text-align: right;\n",
              "    }\n",
              "</style>\n",
              "<table border=\"1\" class=\"dataframe\">\n",
              "  <thead>\n",
              "    <tr style=\"text-align: right;\">\n",
              "      <th></th>\n",
              "      <th>Completion time</th>\n",
              "      <th>Name (Please type your name)</th>\n",
              "      <th>Homeroom</th>\n",
              "      <th>Your answer</th>\n",
              "    </tr>\n",
              "  </thead>\n",
              "  <tbody>\n",
              "    <tr>\n",
              "      <th>1</th>\n",
              "      <td>2021-11-27 18:14:11</td>\n",
              "      <td>Manato Tanaka</td>\n",
              "      <td>G6B</td>\n",
              "      <td>11</td>\n",
              "    </tr>\n",
              "    <tr>\n",
              "      <th>2</th>\n",
              "      <td>2021-11-28 20:08:50</td>\n",
              "      <td>Juri Mikoshiba</td>\n",
              "      <td>G6A</td>\n",
              "      <td>11</td>\n",
              "    </tr>\n",
              "    <tr>\n",
              "      <th>3</th>\n",
              "      <td>2021-11-28 21:55:47</td>\n",
              "      <td>Divyansh Gupta</td>\n",
              "      <td>G8A</td>\n",
              "      <td>11</td>\n",
              "    </tr>\n",
              "    <tr>\n",
              "      <th>4</th>\n",
              "      <td>2021-11-29 11:36:18</td>\n",
              "      <td>Aryan Sokhiya</td>\n",
              "      <td>G9B</td>\n",
              "      <td>11</td>\n",
              "    </tr>\n",
              "  </tbody>\n",
              "</table>\n",
              "</div>"
            ],
            "text/plain": [
              "      Completion time Name (Please type your name) Homeroom  Your answer\n",
              "1 2021-11-27 18:14:11                Manato Tanaka      G6B           11\n",
              "2 2021-11-28 20:08:50               Juri Mikoshiba      G6A           11\n",
              "3 2021-11-28 21:55:47               Divyansh Gupta      G8A           11\n",
              "4 2021-11-29 11:36:18               Aryan Sokhiya       G9B           11"
            ]
          },
          "metadata": {},
          "execution_count": 33
        }
      ]
    },
    {
      "cell_type": "code",
      "metadata": {
        "id": "eDknN-hvlD8-"
      },
      "source": [
        "def check_answers_and_assign_scores(df,answer,booster=1):\n",
        "  correct_df_1 = df[df[\"Your answer\"] == answer]\n",
        "\n",
        "  #rename the \"Name\" column of the dataframe containing the info about the people who got the correct answers\n",
        "  correct_df = correct_df_1.rename({\"Name (Please type your name)\":\"Name\",\"Homeroom\":\"Class\"},axis=1)\n",
        "\n",
        "  #main code to assign the scores\n",
        "  correct_df[\"Completion time\"] = pd.to_datetime(correct_df[\"Completion time\"])\n",
        "  correct_df = correct_df.sort_values(\"Completion time\")\n",
        "  scores_to_be_used = SCORES_LIST[0:len(correct_df)] * booster\n",
        "  correct_df[\"Score\"] = scores_to_be_used\n",
        "  #as we no longer need the completion time and the answer columns anymore, drop them\n",
        "  correct_df = correct_df.drop([\"Completion time\",\"Your answer\"],axis=1)\n",
        "  correct_df = correct_df.reset_index()\n",
        "  correct_df = correct_df.drop(\"index\",axis=1)\n",
        "  print(correct_df)\n",
        "  return correct_df"
      ],
      "execution_count": 34,
      "outputs": []
    },
    {
      "cell_type": "code",
      "metadata": {
        "id": "O1NsUamjmHaP"
      },
      "source": [
        "def modify_score(path,value,name,cellstr=None,df=None):\n",
        "  \"\"\"\n",
        "  Docstring:\n",
        "  modify one value in the excel spreadsheet and save it\n",
        "\n",
        "  Parameters:\n",
        "    Path:\n",
        "      Path to the excel file that you want to modify\n",
        "    \n",
        "    cellstr:\n",
        "      Index of the cell\n",
        "    \n",
        "    Value: \n",
        "      Value that you want to replace with\n",
        "    \n",
        "    name:\n",
        "      Name of person that has thier score being modified\n",
        "\n",
        "\n",
        "  \"\"\"\n",
        "  wb = load_workbook(path)\n",
        "  if cellstr != None:\n",
        "    wb[cellstr].value = value\n",
        "    print(\"Modified Value of Cell {} to: {}\".format(cellstr,value))\n",
        "    wb.save(\"Math Commitee Data modified.xlsx\")\n",
        "  else:\n",
        "    #we do not know the precise location of the cell to be edited, so thus we will edit the dataframe and save that instead.\n",
        "    if df == None:\n",
        "      #no df provided, trigger error\n",
        "      raise ValueError(\"Please provide a valid dataframe, or provide a cellstring\")\n",
        "    else:\n",
        "      #edit the dataframe\n",
        "      df.loc[name,\"Score\"] = value\n",
        "      print(\"{}'s score has been changed to {}!\".format(name,value))\n",
        "      return df"
      ],
      "execution_count": 35,
      "outputs": []
    },
    {
      "cell_type": "code",
      "metadata": {
        "id": "CfRU7C-Op732"
      },
      "source": [
        "grade_student_pairs = {\"Juri Mikoshiba\":\"G6A\",\"Manato Tanaka\":\"G6B\",\"Tyler Glanville\":\"G6A\",\"Shoukei Hada\":\"G6A\",\"Ota Horii\":\"G6B\",\"Divyansh Gupta\":\"G8A\",\"Yuvraj Jadia\":\"G6B\",\"Arita Mana Angelina\":\"G6B\",\"Shi Xintong\":\"G8B\",\"Zhang Tongxi\":\"G7A\"}"
      ],
      "execution_count": 36,
      "outputs": []
    },
    {
      "cell_type": "code",
      "metadata": {
        "id": "LghXWZ5qQ-w3"
      },
      "source": [
        ""
      ],
      "execution_count": 36,
      "outputs": []
    },
    {
      "cell_type": "code",
      "metadata": {
        "id": "qeOZ-DqjYtgw"
      },
      "source": [
        ""
      ],
      "execution_count": 39,
      "outputs": []
    },
    {
      "cell_type": "code",
      "metadata": {
        "colab": {
          "base_uri": "https://localhost:8080/"
        },
        "id": "cKOTFQTCzqh_",
        "outputId": "ac9e50bf-4a9b-42f4-82fe-d174b6b105a2"
      },
      "source": [
        "wb,df1 = read_excel_file(\"Math Commitee Data (3).xlsx\",1,4,1,12)"
      ],
      "execution_count": 40,
      "outputs": [
        {
          "output_type": "stream",
          "name": "stdout",
          "text": [
            "Name\n",
            "Class\n",
            "Score\n",
            "None\n",
            "None\n",
            "None\n",
            "None\n",
            "None\n",
            "None\n",
            "None\n",
            "None\n",
            "=====================================\n",
            "Juri Mikoshiba\n",
            "G6A\n",
            "\t3000\n",
            "None\n",
            "None\n",
            "None\n",
            "None\n",
            "None\n",
            "None\n",
            "None\n",
            "None\n",
            "=====================================\n",
            "Manato Tanaka\n",
            "G6B\n",
            "3000\n",
            "None\n",
            "None\n",
            "None\n",
            "None\n",
            "None\n",
            "None\n",
            "None\n",
            "None\n",
            "=====================================\n"
          ]
        }
      ]
    },
    {
      "cell_type": "code",
      "metadata": {
        "colab": {
          "base_uri": "https://localhost:8080/",
          "height": 363
        },
        "id": "ecWLeCpw2wRH",
        "outputId": "ab8b99a7-be0f-4f63-beed-ac14a698212e"
      },
      "source": [
        "df1"
      ],
      "execution_count": 41,
      "outputs": [
        {
          "output_type": "execute_result",
          "data": {
            "text/html": [
              "<div>\n",
              "<style scoped>\n",
              "    .dataframe tbody tr th:only-of-type {\n",
              "        vertical-align: middle;\n",
              "    }\n",
              "\n",
              "    .dataframe tbody tr th {\n",
              "        vertical-align: top;\n",
              "    }\n",
              "\n",
              "    .dataframe thead th {\n",
              "        text-align: right;\n",
              "    }\n",
              "</style>\n",
              "<table border=\"1\" class=\"dataframe\">\n",
              "  <thead>\n",
              "    <tr style=\"text-align: right;\">\n",
              "      <th></th>\n",
              "      <th>Name</th>\n",
              "      <th>Class</th>\n",
              "      <th>Score</th>\n",
              "    </tr>\n",
              "  </thead>\n",
              "  <tbody>\n",
              "    <tr>\n",
              "      <th>0</th>\n",
              "      <td>Juri Mikoshiba</td>\n",
              "      <td>G6A</td>\n",
              "      <td>3000</td>\n",
              "    </tr>\n",
              "    <tr>\n",
              "      <th>1</th>\n",
              "      <td>Manato Tanaka</td>\n",
              "      <td>G6B</td>\n",
              "      <td>3000</td>\n",
              "    </tr>\n",
              "    <tr>\n",
              "      <th>2</th>\n",
              "      <td>Tyler Glanville</td>\n",
              "      <td>G6A</td>\n",
              "      <td>1350</td>\n",
              "    </tr>\n",
              "    <tr>\n",
              "      <th>3</th>\n",
              "      <td>Divyansh Gupta</td>\n",
              "      <td>G8A</td>\n",
              "      <td>1100</td>\n",
              "    </tr>\n",
              "    <tr>\n",
              "      <th>4</th>\n",
              "      <td>Shoukei Hada</td>\n",
              "      <td>G6A</td>\n",
              "      <td>250</td>\n",
              "    </tr>\n",
              "    <tr>\n",
              "      <th>5</th>\n",
              "      <td>Ota Horii</td>\n",
              "      <td>G6A</td>\n",
              "      <td>200</td>\n",
              "    </tr>\n",
              "    <tr>\n",
              "      <th>6</th>\n",
              "      <td>Yuvraj Jadia</td>\n",
              "      <td>G6B</td>\n",
              "      <td>100</td>\n",
              "    </tr>\n",
              "    <tr>\n",
              "      <th>7</th>\n",
              "      <td>Arita Mana Angelina</td>\n",
              "      <td>G6B</td>\n",
              "      <td>100</td>\n",
              "    </tr>\n",
              "    <tr>\n",
              "      <th>8</th>\n",
              "      <td>Shi Xintong</td>\n",
              "      <td>G8B</td>\n",
              "      <td>100</td>\n",
              "    </tr>\n",
              "    <tr>\n",
              "      <th>9</th>\n",
              "      <td>Zhang Tongxi</td>\n",
              "      <td>G7A</td>\n",
              "      <td>100</td>\n",
              "    </tr>\n",
              "  </tbody>\n",
              "</table>\n",
              "</div>"
            ],
            "text/plain": [
              "                  Name Class  Score\n",
              "0       Juri Mikoshiba   G6A   3000\n",
              "1        Manato Tanaka   G6B   3000\n",
              "2      Tyler Glanville   G6A   1350\n",
              "3       Divyansh Gupta   G8A   1100\n",
              "4         Shoukei Hada   G6A    250\n",
              "5            Ota Horii   G6A    200\n",
              "6         Yuvraj Jadia   G6B    100\n",
              "7  Arita Mana Angelina   G6B    100\n",
              "8          Shi Xintong   G8B    100\n",
              "9         Zhang Tongxi   G7A    100"
            ]
          },
          "metadata": {},
          "execution_count": 41
        }
      ]
    },
    {
      "cell_type": "code",
      "metadata": {
        "colab": {
          "base_uri": "https://localhost:8080/",
          "height": 166
        },
        "id": "-DnAq-v0-Vmr",
        "outputId": "b2393e87-76f0-4720-b3a6-f25340ed8a9a"
      },
      "source": [
        "df3"
      ],
      "execution_count": null,
      "outputs": [
        {
          "output_type": "error",
          "ename": "NameError",
          "evalue": "ignored",
          "traceback": [
            "\u001b[0;31m---------------------------------------------------------------------------\u001b[0m",
            "\u001b[0;31mNameError\u001b[0m                                 Traceback (most recent call last)",
            "\u001b[0;32m<ipython-input-33-3357e37d2add>\u001b[0m in \u001b[0;36m<module>\u001b[0;34m()\u001b[0m\n\u001b[0;32m----> 1\u001b[0;31m \u001b[0mdf3\u001b[0m\u001b[0;34m\u001b[0m\u001b[0;34m\u001b[0m\u001b[0m\n\u001b[0m",
            "\u001b[0;31mNameError\u001b[0m: name 'df3' is not defined"
          ]
        }
      ]
    },
    {
      "cell_type": "code",
      "metadata": {
        "id": "JBDr99pc_Be8",
        "colab": {
          "base_uri": "https://localhost:8080/",
          "height": 166
        },
        "outputId": "6d3221b2-1cab-404e-cc11-086d0d55a292"
      },
      "source": [
        "df4 = df3.set_index(\"Name\")"
      ],
      "execution_count": null,
      "outputs": [
        {
          "output_type": "error",
          "ename": "NameError",
          "evalue": "ignored",
          "traceback": [
            "\u001b[0;31m---------------------------------------------------------------------------\u001b[0m",
            "\u001b[0;31mNameError\u001b[0m                                 Traceback (most recent call last)",
            "\u001b[0;32m<ipython-input-34-9c16ca8049a1>\u001b[0m in \u001b[0;36m<module>\u001b[0;34m()\u001b[0m\n\u001b[0;32m----> 1\u001b[0;31m \u001b[0mdf4\u001b[0m \u001b[0;34m=\u001b[0m \u001b[0mdf3\u001b[0m\u001b[0;34m.\u001b[0m\u001b[0mset_index\u001b[0m\u001b[0;34m(\u001b[0m\u001b[0;34m\"Name\"\u001b[0m\u001b[0;34m)\u001b[0m\u001b[0;34m\u001b[0m\u001b[0;34m\u001b[0m\u001b[0m\n\u001b[0m",
            "\u001b[0;31mNameError\u001b[0m: name 'df3' is not defined"
          ]
        }
      ]
    },
    {
      "cell_type": "code",
      "metadata": {
        "colab": {
          "base_uri": "https://localhost:8080/"
        },
        "id": "c6QNQ7t5_LPo",
        "outputId": "a0c0be5d-893d-401c-cd83-a3007d2de21e"
      },
      "source": [
        "df4.index"
      ],
      "execution_count": null,
      "outputs": [
        {
          "output_type": "execute_result",
          "data": {
            "text/plain": [
              "Index(['Manato Tanaka', 'Juri Mikoshiba', 'Divyansh Gupta', 'Aryan Sokhiya '], dtype='object', name='Name')"
            ]
          },
          "metadata": {},
          "execution_count": 255
        }
      ]
    },
    {
      "cell_type": "code",
      "metadata": {
        "colab": {
          "base_uri": "https://localhost:8080/",
          "height": 237
        },
        "id": "fkD63yYW_Ebm",
        "outputId": "458fdbc1-c2b4-4f86-de81-7b9cddad83d4"
      },
      "source": [
        "df4.append(df4.loc[\"Aryan Sokhiya \"],ignore_index=False)"
      ],
      "execution_count": null,
      "outputs": [
        {
          "output_type": "execute_result",
          "data": {
            "text/html": [
              "<div>\n",
              "<style scoped>\n",
              "    .dataframe tbody tr th:only-of-type {\n",
              "        vertical-align: middle;\n",
              "    }\n",
              "\n",
              "    .dataframe tbody tr th {\n",
              "        vertical-align: top;\n",
              "    }\n",
              "\n",
              "    .dataframe thead th {\n",
              "        text-align: right;\n",
              "    }\n",
              "</style>\n",
              "<table border=\"1\" class=\"dataframe\">\n",
              "  <thead>\n",
              "    <tr style=\"text-align: right;\">\n",
              "      <th></th>\n",
              "      <th>Class</th>\n",
              "      <th>Score</th>\n",
              "    </tr>\n",
              "    <tr>\n",
              "      <th>Name</th>\n",
              "      <th></th>\n",
              "      <th></th>\n",
              "    </tr>\n",
              "  </thead>\n",
              "  <tbody>\n",
              "    <tr>\n",
              "      <th>Manato Tanaka</th>\n",
              "      <td>G6B</td>\n",
              "      <td>750</td>\n",
              "    </tr>\n",
              "    <tr>\n",
              "      <th>Juri Mikoshiba</th>\n",
              "      <td>G6A</td>\n",
              "      <td>500</td>\n",
              "    </tr>\n",
              "    <tr>\n",
              "      <th>Divyansh Gupta</th>\n",
              "      <td>G8A</td>\n",
              "      <td>250</td>\n",
              "    </tr>\n",
              "    <tr>\n",
              "      <th>Aryan Sokhiya</th>\n",
              "      <td>G9B</td>\n",
              "      <td>100</td>\n",
              "    </tr>\n",
              "    <tr>\n",
              "      <th>Aryan Sokhiya</th>\n",
              "      <td>G9B</td>\n",
              "      <td>100</td>\n",
              "    </tr>\n",
              "  </tbody>\n",
              "</table>\n",
              "</div>"
            ],
            "text/plain": [
              "               Class  Score\n",
              "Name                       \n",
              "Manato Tanaka    G6B    750\n",
              "Juri Mikoshiba   G6A    500\n",
              "Divyansh Gupta   G8A    250\n",
              "Aryan Sokhiya    G9B    100\n",
              "Aryan Sokhiya    G9B    100"
            ]
          },
          "metadata": {},
          "execution_count": 256
        }
      ]
    },
    {
      "cell_type": "code",
      "metadata": {
        "colab": {
          "base_uri": "https://localhost:8080/"
        },
        "id": "i8Ef_dWYpevq",
        "outputId": "e80aa8cc-cfd1-4cc3-bf9b-a3277a5882ab"
      },
      "source": [
        "df = check_and_remove_descrepancies(df1,df3)"
      ],
      "execution_count": null,
      "outputs": [
        {
          "output_type": "stream",
          "name": "stdout",
          "text": [
            "['Juri Mikoshiba', 'Manato Tanaka', 'Tyler Glanville', 'Divyansh Gupta', 'Shoukei Hada', 'Ota Horii', 'Yuvraj Jadia', 'Arita Mana Angelina', 'Shi Xintong', 'Zhang Tongxi']\n",
            "['Manato Tanaka', 'Juri Mikoshiba', 'Divyansh Gupta', 'Aryan Sokhiya ']\n",
            "                    Class  Score\n",
            "Name                            \n",
            "Juri Mikoshiba        G6A   3000\n",
            "Manato Tanaka         G6B   3000\n",
            "Tyler Glanville       G6A   1350\n",
            "Divyansh Gupta        G8A   1100\n",
            "Shoukei Hada          G6A    250\n",
            "Ota Horii             G6A    200\n",
            "Yuvraj Jadia          G6B    100\n",
            "Arita Mana Angelina   G6B    100\n",
            "Shi Xintong           G8B    100\n",
            "Zhang Tongxi          G7A    100\n",
            "               Class  Score\n",
            "Name                       \n",
            "Manato Tanaka    G6B    750\n",
            "Juri Mikoshiba   G6A    500\n",
            "Divyansh Gupta   G8A    250\n",
            "Aryan Sokhiya    G9B    100\n",
            "Class    G9B\n",
            "Score    100\n",
            "Name: Aryan Sokhiya , dtype: object\n"
          ]
        }
      ]
    },
    {
      "cell_type": "code",
      "metadata": {
        "colab": {
          "base_uri": "https://localhost:8080/",
          "height": 425
        },
        "id": "Wgftmt8pr68P",
        "outputId": "2f048db6-f38d-4c22-a2e9-e7ec5034adcd"
      },
      "source": [
        "df"
      ],
      "execution_count": null,
      "outputs": [
        {
          "output_type": "execute_result",
          "data": {
            "text/html": [
              "<div>\n",
              "<style scoped>\n",
              "    .dataframe tbody tr th:only-of-type {\n",
              "        vertical-align: middle;\n",
              "    }\n",
              "\n",
              "    .dataframe tbody tr th {\n",
              "        vertical-align: top;\n",
              "    }\n",
              "\n",
              "    .dataframe thead th {\n",
              "        text-align: right;\n",
              "    }\n",
              "</style>\n",
              "<table border=\"1\" class=\"dataframe\">\n",
              "  <thead>\n",
              "    <tr style=\"text-align: right;\">\n",
              "      <th></th>\n",
              "      <th>Class</th>\n",
              "      <th>Score</th>\n",
              "    </tr>\n",
              "    <tr>\n",
              "      <th>Name</th>\n",
              "      <th></th>\n",
              "      <th></th>\n",
              "    </tr>\n",
              "  </thead>\n",
              "  <tbody>\n",
              "    <tr>\n",
              "      <th>Manato Tanaka</th>\n",
              "      <td>G6B</td>\n",
              "      <td>3750</td>\n",
              "    </tr>\n",
              "    <tr>\n",
              "      <th>Juri Mikoshiba</th>\n",
              "      <td>G6A</td>\n",
              "      <td>3500</td>\n",
              "    </tr>\n",
              "    <tr>\n",
              "      <th>Tyler Glanville</th>\n",
              "      <td>G6A</td>\n",
              "      <td>1350</td>\n",
              "    </tr>\n",
              "    <tr>\n",
              "      <th>Divyansh Gupta</th>\n",
              "      <td>G8A</td>\n",
              "      <td>1350</td>\n",
              "    </tr>\n",
              "    <tr>\n",
              "      <th>Shoukei Hada</th>\n",
              "      <td>G6A</td>\n",
              "      <td>250</td>\n",
              "    </tr>\n",
              "    <tr>\n",
              "      <th>Ota Horii</th>\n",
              "      <td>G6A</td>\n",
              "      <td>200</td>\n",
              "    </tr>\n",
              "    <tr>\n",
              "      <th>Yuvraj Jadia</th>\n",
              "      <td>G6B</td>\n",
              "      <td>100</td>\n",
              "    </tr>\n",
              "    <tr>\n",
              "      <th>Arita Mana Angelina</th>\n",
              "      <td>G6B</td>\n",
              "      <td>100</td>\n",
              "    </tr>\n",
              "    <tr>\n",
              "      <th>Shi Xintong</th>\n",
              "      <td>G8B</td>\n",
              "      <td>100</td>\n",
              "    </tr>\n",
              "    <tr>\n",
              "      <th>Zhang Tongxi</th>\n",
              "      <td>G7A</td>\n",
              "      <td>100</td>\n",
              "    </tr>\n",
              "    <tr>\n",
              "      <th>Aryan Sokhiya</th>\n",
              "      <td>G9B</td>\n",
              "      <td>100</td>\n",
              "    </tr>\n",
              "  </tbody>\n",
              "</table>\n",
              "</div>"
            ],
            "text/plain": [
              "                    Class  Score\n",
              "Name                            \n",
              "Manato Tanaka         G6B   3750\n",
              "Juri Mikoshiba        G6A   3500\n",
              "Tyler Glanville       G6A   1350\n",
              "Divyansh Gupta        G8A   1350\n",
              "Shoukei Hada          G6A    250\n",
              "Ota Horii             G6A    200\n",
              "Yuvraj Jadia          G6B    100\n",
              "Arita Mana Angelina   G6B    100\n",
              "Shi Xintong           G8B    100\n",
              "Zhang Tongxi          G7A    100\n",
              "Aryan Sokhiya         G9B    100"
            ]
          },
          "metadata": {},
          "execution_count": 259
        }
      ]
    },
    {
      "cell_type": "code",
      "metadata": {
        "colab": {
          "base_uri": "https://localhost:8080/"
        },
        "id": "_TyUjmpZqaBO",
        "outputId": "008047ef-0b2c-4ced-edf6-642e43171f1c"
      },
      "source": [
        "print(df1,df3)"
      ],
      "execution_count": null,
      "outputs": [
        {
          "output_type": "stream",
          "name": "stdout",
          "text": [
            "                  Name Class  Score\n",
            "0       Juri Mikoshiba   G6A   3000\n",
            "1       Manato Tanaka    G6B   3000\n",
            "2      Tyler Glanville   G6A   1350\n",
            "3       Divyansh Gupta   G8A   1100\n",
            "4         Shoukei Hada   G6A    250\n",
            "5            Ota Horii   G6A    200\n",
            "6         Yuvraj Jadia   G6B    100\n",
            "7  Arita Mana Angelina   G6B    100\n",
            "8          Shi Xintong   G8B    100\n",
            "9         Zhang Tongxi   G7A    100              Name Homeroom  Score\n",
            "0   Manato Tanaka      G6B    750\n",
            "1  Juri Mikoshiba      G6A    500\n"
          ]
        }
      ]
    },
    {
      "cell_type": "code",
      "metadata": {
        "colab": {
          "base_uri": "https://localhost:8080/",
          "height": 363
        },
        "id": "c4Xw4Q4jrcl8",
        "outputId": "6af00f21-3aee-4103-dad1-57e349d8b4f9"
      },
      "source": [
        "df1"
      ],
      "execution_count": null,
      "outputs": [
        {
          "output_type": "execute_result",
          "data": {
            "text/html": [
              "<div>\n",
              "<style scoped>\n",
              "    .dataframe tbody tr th:only-of-type {\n",
              "        vertical-align: middle;\n",
              "    }\n",
              "\n",
              "    .dataframe tbody tr th {\n",
              "        vertical-align: top;\n",
              "    }\n",
              "\n",
              "    .dataframe thead th {\n",
              "        text-align: right;\n",
              "    }\n",
              "</style>\n",
              "<table border=\"1\" class=\"dataframe\">\n",
              "  <thead>\n",
              "    <tr style=\"text-align: right;\">\n",
              "      <th></th>\n",
              "      <th>Name</th>\n",
              "      <th>Class</th>\n",
              "      <th>Score</th>\n",
              "    </tr>\n",
              "  </thead>\n",
              "  <tbody>\n",
              "    <tr>\n",
              "      <th>0</th>\n",
              "      <td>Juri Mikoshiba</td>\n",
              "      <td>G6A</td>\n",
              "      <td>3000</td>\n",
              "    </tr>\n",
              "    <tr>\n",
              "      <th>1</th>\n",
              "      <td>Manato Tanaka</td>\n",
              "      <td>G6B</td>\n",
              "      <td>3000</td>\n",
              "    </tr>\n",
              "    <tr>\n",
              "      <th>2</th>\n",
              "      <td>Tyler Glanville</td>\n",
              "      <td>G6A</td>\n",
              "      <td>1350</td>\n",
              "    </tr>\n",
              "    <tr>\n",
              "      <th>3</th>\n",
              "      <td>Divyansh Gupta</td>\n",
              "      <td>G8A</td>\n",
              "      <td>1100</td>\n",
              "    </tr>\n",
              "    <tr>\n",
              "      <th>4</th>\n",
              "      <td>Shoukei Hada</td>\n",
              "      <td>G6A</td>\n",
              "      <td>250</td>\n",
              "    </tr>\n",
              "    <tr>\n",
              "      <th>5</th>\n",
              "      <td>Ota Horii</td>\n",
              "      <td>G6A</td>\n",
              "      <td>200</td>\n",
              "    </tr>\n",
              "    <tr>\n",
              "      <th>6</th>\n",
              "      <td>Yuvraj Jadia</td>\n",
              "      <td>G6B</td>\n",
              "      <td>100</td>\n",
              "    </tr>\n",
              "    <tr>\n",
              "      <th>7</th>\n",
              "      <td>Arita Mana Angelina</td>\n",
              "      <td>G6B</td>\n",
              "      <td>100</td>\n",
              "    </tr>\n",
              "    <tr>\n",
              "      <th>8</th>\n",
              "      <td>Shi Xintong</td>\n",
              "      <td>G8B</td>\n",
              "      <td>100</td>\n",
              "    </tr>\n",
              "    <tr>\n",
              "      <th>9</th>\n",
              "      <td>Zhang Tongxi</td>\n",
              "      <td>G7A</td>\n",
              "      <td>100</td>\n",
              "    </tr>\n",
              "  </tbody>\n",
              "</table>\n",
              "</div>"
            ],
            "text/plain": [
              "                  Name Class  Score\n",
              "0       Juri Mikoshiba   G6A   3000\n",
              "1       Manato Tanaka    G6B   3000\n",
              "2      Tyler Glanville   G6A   1350\n",
              "3       Divyansh Gupta   G8A   1100\n",
              "4         Shoukei Hada   G6A    250\n",
              "5            Ota Horii   G6A    200\n",
              "6         Yuvraj Jadia   G6B    100\n",
              "7  Arita Mana Angelina   G6B    100\n",
              "8          Shi Xintong   G8B    100\n",
              "9         Zhang Tongxi   G7A    100"
            ]
          },
          "metadata": {},
          "execution_count": 111
        }
      ]
    },
    {
      "cell_type": "code",
      "metadata": {
        "colab": {
          "base_uri": "https://localhost:8080/",
          "height": 112
        },
        "id": "IhA48AP_rGUw",
        "outputId": "adf6098b-dcb0-4ece-9bee-04e0eaeb88b2"
      },
      "source": [
        "df3"
      ],
      "execution_count": null,
      "outputs": [
        {
          "output_type": "execute_result",
          "data": {
            "text/html": [
              "<div>\n",
              "<style scoped>\n",
              "    .dataframe tbody tr th:only-of-type {\n",
              "        vertical-align: middle;\n",
              "    }\n",
              "\n",
              "    .dataframe tbody tr th {\n",
              "        vertical-align: top;\n",
              "    }\n",
              "\n",
              "    .dataframe thead th {\n",
              "        text-align: right;\n",
              "    }\n",
              "</style>\n",
              "<table border=\"1\" class=\"dataframe\">\n",
              "  <thead>\n",
              "    <tr style=\"text-align: right;\">\n",
              "      <th></th>\n",
              "      <th>Name</th>\n",
              "      <th>Homeroom</th>\n",
              "      <th>Score</th>\n",
              "    </tr>\n",
              "  </thead>\n",
              "  <tbody>\n",
              "    <tr>\n",
              "      <th>0</th>\n",
              "      <td>Manato Tanaka</td>\n",
              "      <td>G6B</td>\n",
              "      <td>750</td>\n",
              "    </tr>\n",
              "    <tr>\n",
              "      <th>1</th>\n",
              "      <td>Juri Mikoshiba</td>\n",
              "      <td>G6A</td>\n",
              "      <td>500</td>\n",
              "    </tr>\n",
              "  </tbody>\n",
              "</table>\n",
              "</div>"
            ],
            "text/plain": [
              "             Name Homeroom  Score\n",
              "0   Manato Tanaka      G6B    750\n",
              "1  Juri Mikoshiba      G6A    500"
            ]
          },
          "metadata": {},
          "execution_count": 110
        }
      ]
    },
    {
      "cell_type": "code",
      "metadata": {
        "id": "5mFv7aUS1BVz"
      },
      "source": [
        "df1.loc[len(df1) + 1] = {\"Andrew\":[1,3]}"
      ],
      "execution_count": null,
      "outputs": []
    },
    {
      "cell_type": "code",
      "metadata": {
        "colab": {
          "base_uri": "https://localhost:8080/",
          "height": 457
        },
        "id": "uxyvRhr71qjN",
        "outputId": "084fa062-f494-4a86-cc49-34d664a775d0"
      },
      "source": [
        ""
      ],
      "execution_count": null,
      "outputs": [
        {
          "output_type": "execute_result",
          "data": {
            "text/html": [
              "<div>\n",
              "<style scoped>\n",
              "    .dataframe tbody tr th:only-of-type {\n",
              "        vertical-align: middle;\n",
              "    }\n",
              "\n",
              "    .dataframe tbody tr th {\n",
              "        vertical-align: top;\n",
              "    }\n",
              "\n",
              "    .dataframe thead th {\n",
              "        text-align: right;\n",
              "    }\n",
              "</style>\n",
              "<table border=\"1\" class=\"dataframe\">\n",
              "  <thead>\n",
              "    <tr style=\"text-align: right;\">\n",
              "      <th></th>\n",
              "      <th>Class</th>\n",
              "      <th>Score</th>\n",
              "      <th>Name</th>\n",
              "    </tr>\n",
              "  </thead>\n",
              "  <tbody>\n",
              "    <tr>\n",
              "      <th>0</th>\n",
              "      <td>G6A</td>\n",
              "      <td>6000.0</td>\n",
              "      <td>NaN</td>\n",
              "    </tr>\n",
              "    <tr>\n",
              "      <th>1</th>\n",
              "      <td>G6B</td>\n",
              "      <td>6000.0</td>\n",
              "      <td>NaN</td>\n",
              "    </tr>\n",
              "    <tr>\n",
              "      <th>2</th>\n",
              "      <td>G6A</td>\n",
              "      <td>2700.0</td>\n",
              "      <td>NaN</td>\n",
              "    </tr>\n",
              "    <tr>\n",
              "      <th>3</th>\n",
              "      <td>G8A</td>\n",
              "      <td>2200.0</td>\n",
              "      <td>NaN</td>\n",
              "    </tr>\n",
              "    <tr>\n",
              "      <th>4</th>\n",
              "      <td>G6A</td>\n",
              "      <td>500.0</td>\n",
              "      <td>NaN</td>\n",
              "    </tr>\n",
              "    <tr>\n",
              "      <th>5</th>\n",
              "      <td>G6A</td>\n",
              "      <td>400.0</td>\n",
              "      <td>NaN</td>\n",
              "    </tr>\n",
              "    <tr>\n",
              "      <th>6</th>\n",
              "      <td>G6B</td>\n",
              "      <td>200.0</td>\n",
              "      <td>NaN</td>\n",
              "    </tr>\n",
              "    <tr>\n",
              "      <th>7</th>\n",
              "      <td>G6B</td>\n",
              "      <td>200.0</td>\n",
              "      <td>NaN</td>\n",
              "    </tr>\n",
              "    <tr>\n",
              "      <th>8</th>\n",
              "      <td>G8B</td>\n",
              "      <td>200.0</td>\n",
              "      <td>NaN</td>\n",
              "    </tr>\n",
              "    <tr>\n",
              "      <th>9</th>\n",
              "      <td>G7A</td>\n",
              "      <td>200.0</td>\n",
              "      <td>NaN</td>\n",
              "    </tr>\n",
              "    <tr>\n",
              "      <th>10</th>\n",
              "      <td>NaN</td>\n",
              "      <td>50.0</td>\n",
              "      <td>NaN</td>\n",
              "    </tr>\n",
              "    <tr>\n",
              "      <th>11</th>\n",
              "      <td>NaN</td>\n",
              "      <td>NaN</td>\n",
              "      <td>NaN</td>\n",
              "    </tr>\n",
              "    <tr>\n",
              "      <th>12</th>\n",
              "      <td>G9B</td>\n",
              "      <td>1500.0</td>\n",
              "      <td>Andrew Wang</td>\n",
              "    </tr>\n",
              "  </tbody>\n",
              "</table>\n",
              "</div>"
            ],
            "text/plain": [
              "   Class   Score         Name\n",
              "0    G6A  6000.0          NaN\n",
              "1    G6B  6000.0          NaN\n",
              "2    G6A  2700.0          NaN\n",
              "3    G8A  2200.0          NaN\n",
              "4    G6A   500.0          NaN\n",
              "5    G6A   400.0          NaN\n",
              "6    G6B   200.0          NaN\n",
              "7    G6B   200.0          NaN\n",
              "8    G8B   200.0          NaN\n",
              "9    G7A   200.0          NaN\n",
              "10   NaN    50.0          NaN\n",
              "11   NaN     NaN          NaN\n",
              "12   G9B  1500.0  Andrew Wang"
            ]
          },
          "metadata": {},
          "execution_count": 68
        }
      ]
    },
    {
      "cell_type": "code",
      "metadata": {
        "id": "bmdazLUF2qU5"
      },
      "source": [
        "df3 = pd.DataFrame({\"Name\":[\"Andrew Wang\"],\"Class\":[\"G9B\"],\"Score\":[1500]})"
      ],
      "execution_count": null,
      "outputs": []
    },
    {
      "cell_type": "code",
      "metadata": {
        "colab": {
          "base_uri": "https://localhost:8080/",
          "height": 112
        },
        "id": "_BIXwChf4G_2",
        "outputId": "82310e2f-ffc6-4d90-c383-3b1711fd4933"
      },
      "source": [
        "df3.set_index(\"Name\")"
      ],
      "execution_count": null,
      "outputs": [
        {
          "output_type": "execute_result",
          "data": {
            "text/html": [
              "<div>\n",
              "<style scoped>\n",
              "    .dataframe tbody tr th:only-of-type {\n",
              "        vertical-align: middle;\n",
              "    }\n",
              "\n",
              "    .dataframe tbody tr th {\n",
              "        vertical-align: top;\n",
              "    }\n",
              "\n",
              "    .dataframe thead th {\n",
              "        text-align: right;\n",
              "    }\n",
              "</style>\n",
              "<table border=\"1\" class=\"dataframe\">\n",
              "  <thead>\n",
              "    <tr style=\"text-align: right;\">\n",
              "      <th></th>\n",
              "      <th>Class</th>\n",
              "      <th>Score</th>\n",
              "    </tr>\n",
              "    <tr>\n",
              "      <th>Name</th>\n",
              "      <th></th>\n",
              "      <th></th>\n",
              "    </tr>\n",
              "  </thead>\n",
              "  <tbody>\n",
              "    <tr>\n",
              "      <th>Andrew Wang</th>\n",
              "      <td>G9B</td>\n",
              "      <td>1500</td>\n",
              "    </tr>\n",
              "  </tbody>\n",
              "</table>\n",
              "</div>"
            ],
            "text/plain": [
              "            Class  Score\n",
              "Name                    \n",
              "Andrew Wang   G9B   1500"
            ]
          },
          "metadata": {},
          "execution_count": 83
        }
      ]
    },
    {
      "cell_type": "code",
      "metadata": {
        "colab": {
          "base_uri": "https://localhost:8080/",
          "height": 457
        },
        "id": "1VvQ3mw425PH",
        "outputId": "1a97fb53-0176-4d26-acd6-8039f8acb161"
      },
      "source": [
        "pd.concat([df1,df3])"
      ],
      "execution_count": null,
      "outputs": [
        {
          "output_type": "execute_result",
          "data": {
            "text/html": [
              "<div>\n",
              "<style scoped>\n",
              "    .dataframe tbody tr th:only-of-type {\n",
              "        vertical-align: middle;\n",
              "    }\n",
              "\n",
              "    .dataframe tbody tr th {\n",
              "        vertical-align: top;\n",
              "    }\n",
              "\n",
              "    .dataframe thead th {\n",
              "        text-align: right;\n",
              "    }\n",
              "</style>\n",
              "<table border=\"1\" class=\"dataframe\">\n",
              "  <thead>\n",
              "    <tr style=\"text-align: right;\">\n",
              "      <th></th>\n",
              "      <th>Class</th>\n",
              "      <th>Score</th>\n",
              "      <th>Name</th>\n",
              "    </tr>\n",
              "  </thead>\n",
              "  <tbody>\n",
              "    <tr>\n",
              "      <th>Juri Mikoshiba</th>\n",
              "      <td>G6A</td>\n",
              "      <td>6000.0</td>\n",
              "      <td>NaN</td>\n",
              "    </tr>\n",
              "    <tr>\n",
              "      <th>Manato Tanaka</th>\n",
              "      <td>G6B</td>\n",
              "      <td>6000.0</td>\n",
              "      <td>NaN</td>\n",
              "    </tr>\n",
              "    <tr>\n",
              "      <th>Tyler Glanville</th>\n",
              "      <td>G6A</td>\n",
              "      <td>2700.0</td>\n",
              "      <td>NaN</td>\n",
              "    </tr>\n",
              "    <tr>\n",
              "      <th>Divyansh Gupta</th>\n",
              "      <td>G8A</td>\n",
              "      <td>2200.0</td>\n",
              "      <td>NaN</td>\n",
              "    </tr>\n",
              "    <tr>\n",
              "      <th>Shoukei Hada</th>\n",
              "      <td>G6A</td>\n",
              "      <td>500.0</td>\n",
              "      <td>NaN</td>\n",
              "    </tr>\n",
              "    <tr>\n",
              "      <th>Ota Horii</th>\n",
              "      <td>G6A</td>\n",
              "      <td>400.0</td>\n",
              "      <td>NaN</td>\n",
              "    </tr>\n",
              "    <tr>\n",
              "      <th>Yuvraj Jadia</th>\n",
              "      <td>G6B</td>\n",
              "      <td>200.0</td>\n",
              "      <td>NaN</td>\n",
              "    </tr>\n",
              "    <tr>\n",
              "      <th>Arita Mana Angelina</th>\n",
              "      <td>G6B</td>\n",
              "      <td>200.0</td>\n",
              "      <td>NaN</td>\n",
              "    </tr>\n",
              "    <tr>\n",
              "      <th>Shi Xintong</th>\n",
              "      <td>G8B</td>\n",
              "      <td>200.0</td>\n",
              "      <td>NaN</td>\n",
              "    </tr>\n",
              "    <tr>\n",
              "      <th>Zhang Tongxi</th>\n",
              "      <td>G7A</td>\n",
              "      <td>200.0</td>\n",
              "      <td>NaN</td>\n",
              "    </tr>\n",
              "    <tr>\n",
              "      <th>11</th>\n",
              "      <td>NaN</td>\n",
              "      <td>50.0</td>\n",
              "      <td>NaN</td>\n",
              "    </tr>\n",
              "    <tr>\n",
              "      <th>12</th>\n",
              "      <td>NaN</td>\n",
              "      <td>NaN</td>\n",
              "      <td>NaN</td>\n",
              "    </tr>\n",
              "    <tr>\n",
              "      <th>0</th>\n",
              "      <td>G9B</td>\n",
              "      <td>1500.0</td>\n",
              "      <td>Andrew Wang</td>\n",
              "    </tr>\n",
              "  </tbody>\n",
              "</table>\n",
              "</div>"
            ],
            "text/plain": [
              "                    Class   Score         Name\n",
              "Juri Mikoshiba        G6A  6000.0          NaN\n",
              "Manato Tanaka         G6B  6000.0          NaN\n",
              "Tyler Glanville       G6A  2700.0          NaN\n",
              "Divyansh Gupta        G8A  2200.0          NaN\n",
              "Shoukei Hada          G6A   500.0          NaN\n",
              "Ota Horii             G6A   400.0          NaN\n",
              "Yuvraj Jadia          G6B   200.0          NaN\n",
              "Arita Mana Angelina   G6B   200.0          NaN\n",
              "Shi Xintong           G8B   200.0          NaN\n",
              "Zhang Tongxi          G7A   200.0          NaN\n",
              "11                    NaN    50.0          NaN\n",
              "12                    NaN     NaN          NaN\n",
              "0                     G9B  1500.0  Andrew Wang"
            ]
          },
          "metadata": {},
          "execution_count": 87
        }
      ]
    },
    {
      "cell_type": "code",
      "metadata": {
        "colab": {
          "base_uri": "https://localhost:8080/",
          "height": 457
        },
        "id": "e8ShsJb213vG",
        "outputId": "46b3b7b8-9e4f-4a0c-c9aa-8c80c3dd3513"
      },
      "source": [
        "df1"
      ],
      "execution_count": null,
      "outputs": [
        {
          "output_type": "execute_result",
          "data": {
            "text/html": [
              "<div>\n",
              "<style scoped>\n",
              "    .dataframe tbody tr th:only-of-type {\n",
              "        vertical-align: middle;\n",
              "    }\n",
              "\n",
              "    .dataframe tbody tr th {\n",
              "        vertical-align: top;\n",
              "    }\n",
              "\n",
              "    .dataframe thead th {\n",
              "        text-align: right;\n",
              "    }\n",
              "</style>\n",
              "<table border=\"1\" class=\"dataframe\">\n",
              "  <thead>\n",
              "    <tr style=\"text-align: right;\">\n",
              "      <th></th>\n",
              "      <th>Class</th>\n",
              "      <th>Score</th>\n",
              "    </tr>\n",
              "    <tr>\n",
              "      <th>Name</th>\n",
              "      <th></th>\n",
              "      <th></th>\n",
              "    </tr>\n",
              "  </thead>\n",
              "  <tbody>\n",
              "    <tr>\n",
              "      <th>Juri Mikoshiba</th>\n",
              "      <td>G6A</td>\n",
              "      <td>6000.0</td>\n",
              "    </tr>\n",
              "    <tr>\n",
              "      <th>Manato Tanaka</th>\n",
              "      <td>G6B</td>\n",
              "      <td>6000.0</td>\n",
              "    </tr>\n",
              "    <tr>\n",
              "      <th>Tyler Glanville</th>\n",
              "      <td>G6A</td>\n",
              "      <td>2700.0</td>\n",
              "    </tr>\n",
              "    <tr>\n",
              "      <th>Divyansh Gupta</th>\n",
              "      <td>G8A</td>\n",
              "      <td>2200.0</td>\n",
              "    </tr>\n",
              "    <tr>\n",
              "      <th>Shoukei Hada</th>\n",
              "      <td>G6A</td>\n",
              "      <td>500.0</td>\n",
              "    </tr>\n",
              "    <tr>\n",
              "      <th>Ota Horii</th>\n",
              "      <td>G6A</td>\n",
              "      <td>400.0</td>\n",
              "    </tr>\n",
              "    <tr>\n",
              "      <th>Yuvraj Jadia</th>\n",
              "      <td>G6B</td>\n",
              "      <td>200.0</td>\n",
              "    </tr>\n",
              "    <tr>\n",
              "      <th>Arita Mana Angelina</th>\n",
              "      <td>G6B</td>\n",
              "      <td>200.0</td>\n",
              "    </tr>\n",
              "    <tr>\n",
              "      <th>Shi Xintong</th>\n",
              "      <td>G8B</td>\n",
              "      <td>200.0</td>\n",
              "    </tr>\n",
              "    <tr>\n",
              "      <th>Zhang Tongxi</th>\n",
              "      <td>G7A</td>\n",
              "      <td>200.0</td>\n",
              "    </tr>\n",
              "    <tr>\n",
              "      <th>11</th>\n",
              "      <td>NaN</td>\n",
              "      <td>50.0</td>\n",
              "    </tr>\n",
              "    <tr>\n",
              "      <th>12</th>\n",
              "      <td>NaN</td>\n",
              "      <td>NaN</td>\n",
              "    </tr>\n",
              "  </tbody>\n",
              "</table>\n",
              "</div>"
            ],
            "text/plain": [
              "                    Class   Score\n",
              "Name                             \n",
              "Juri Mikoshiba        G6A  6000.0\n",
              "Manato Tanaka         G6B  6000.0\n",
              "Tyler Glanville       G6A  2700.0\n",
              "Divyansh Gupta        G8A  2200.0\n",
              "Shoukei Hada          G6A   500.0\n",
              "Ota Horii             G6A   400.0\n",
              "Yuvraj Jadia          G6B   200.0\n",
              "Arita Mana Angelina   G6B   200.0\n",
              "Shi Xintong           G8B   200.0\n",
              "Zhang Tongxi          G7A   200.0\n",
              "11                    NaN    50.0\n",
              "12                    NaN     NaN"
            ]
          },
          "metadata": {},
          "execution_count": 69
        }
      ]
    },
    {
      "cell_type": "code",
      "metadata": {
        "colab": {
          "base_uri": "https://localhost:8080/",
          "height": 457
        },
        "id": "LrApBpMU1Nuk",
        "outputId": "7de4d062-4a7c-43c1-c213-1182e12cbe31"
      },
      "source": [
        "df1"
      ],
      "execution_count": null,
      "outputs": [
        {
          "output_type": "execute_result",
          "data": {
            "text/html": [
              "<div>\n",
              "<style scoped>\n",
              "    .dataframe tbody tr th:only-of-type {\n",
              "        vertical-align: middle;\n",
              "    }\n",
              "\n",
              "    .dataframe tbody tr th {\n",
              "        vertical-align: top;\n",
              "    }\n",
              "\n",
              "    .dataframe thead th {\n",
              "        text-align: right;\n",
              "    }\n",
              "</style>\n",
              "<table border=\"1\" class=\"dataframe\">\n",
              "  <thead>\n",
              "    <tr style=\"text-align: right;\">\n",
              "      <th></th>\n",
              "      <th>Class</th>\n",
              "      <th>Score</th>\n",
              "    </tr>\n",
              "    <tr>\n",
              "      <th>Name</th>\n",
              "      <th></th>\n",
              "      <th></th>\n",
              "    </tr>\n",
              "  </thead>\n",
              "  <tbody>\n",
              "    <tr>\n",
              "      <th>Juri Mikoshiba</th>\n",
              "      <td>G6A</td>\n",
              "      <td>6000.0</td>\n",
              "    </tr>\n",
              "    <tr>\n",
              "      <th>Manato Tanaka</th>\n",
              "      <td>G6B</td>\n",
              "      <td>6000.0</td>\n",
              "    </tr>\n",
              "    <tr>\n",
              "      <th>Tyler Glanville</th>\n",
              "      <td>G6A</td>\n",
              "      <td>2700.0</td>\n",
              "    </tr>\n",
              "    <tr>\n",
              "      <th>Divyansh Gupta</th>\n",
              "      <td>G8A</td>\n",
              "      <td>2200.0</td>\n",
              "    </tr>\n",
              "    <tr>\n",
              "      <th>Shoukei Hada</th>\n",
              "      <td>G6A</td>\n",
              "      <td>500.0</td>\n",
              "    </tr>\n",
              "    <tr>\n",
              "      <th>Ota Horii</th>\n",
              "      <td>G6A</td>\n",
              "      <td>400.0</td>\n",
              "    </tr>\n",
              "    <tr>\n",
              "      <th>Yuvraj Jadia</th>\n",
              "      <td>G6B</td>\n",
              "      <td>200.0</td>\n",
              "    </tr>\n",
              "    <tr>\n",
              "      <th>Arita Mana Angelina</th>\n",
              "      <td>G6B</td>\n",
              "      <td>200.0</td>\n",
              "    </tr>\n",
              "    <tr>\n",
              "      <th>Shi Xintong</th>\n",
              "      <td>G8B</td>\n",
              "      <td>200.0</td>\n",
              "    </tr>\n",
              "    <tr>\n",
              "      <th>Zhang Tongxi</th>\n",
              "      <td>G7A</td>\n",
              "      <td>200.0</td>\n",
              "    </tr>\n",
              "    <tr>\n",
              "      <th>11</th>\n",
              "      <td>NaN</td>\n",
              "      <td>50.0</td>\n",
              "    </tr>\n",
              "    <tr>\n",
              "      <th>12</th>\n",
              "      <td>NaN</td>\n",
              "      <td>NaN</td>\n",
              "    </tr>\n",
              "  </tbody>\n",
              "</table>\n",
              "</div>"
            ],
            "text/plain": [
              "                    Class   Score\n",
              "Name                             \n",
              "Juri Mikoshiba        G6A  6000.0\n",
              "Manato Tanaka         G6B  6000.0\n",
              "Tyler Glanville       G6A  2700.0\n",
              "Divyansh Gupta        G8A  2200.0\n",
              "Shoukei Hada          G6A   500.0\n",
              "Ota Horii             G6A   400.0\n",
              "Yuvraj Jadia          G6B   200.0\n",
              "Arita Mana Angelina   G6B   200.0\n",
              "Shi Xintong           G8B   200.0\n",
              "Zhang Tongxi          G7A   200.0\n",
              "11                    NaN    50.0\n",
              "12                    NaN     NaN"
            ]
          },
          "metadata": {},
          "execution_count": 66
        }
      ]
    },
    {
      "cell_type": "code",
      "metadata": {
        "colab": {
          "base_uri": "https://localhost:8080/"
        },
        "id": "Z_CNTB9U0IHD",
        "outputId": "ebc12b17-074f-4112-e2c1-dfecf5af323c"
      },
      "source": [
        "test_1,df2 = read_excel_file(\"Updated scores (1).xlsx\",1,4,1,12)"
      ],
      "execution_count": null,
      "outputs": [
        {
          "output_type": "stream",
          "name": "stdout",
          "text": [
            "Name\n",
            "Score\n",
            "None\n",
            "None\n",
            "None\n",
            "None\n",
            "None\n",
            "None\n",
            "None\n",
            "None\n",
            "None\n",
            "=====================================\n",
            "Juri Mikoshiba\n",
            "3000\n",
            "None\n",
            "None\n",
            "None\n",
            "None\n",
            "None\n",
            "None\n",
            "None\n",
            "None\n",
            "None\n",
            "=====================================\n",
            "Manato Tanaka \n",
            "3000\n",
            "None\n",
            "None\n",
            "None\n",
            "None\n",
            "None\n",
            "None\n",
            "None\n",
            "None\n",
            "None\n",
            "=====================================\n"
          ]
        }
      ]
    },
    {
      "cell_type": "code",
      "metadata": {
        "id": "APvLKold0LXO"
      },
      "source": [
        "df2 = clean_df(df2)"
      ],
      "execution_count": null,
      "outputs": []
    },
    {
      "cell_type": "code",
      "metadata": {
        "colab": {
          "base_uri": "https://localhost:8080/",
          "height": 425
        },
        "id": "jiTPsJRI0PbM",
        "outputId": "6a0623b7-9f01-4c1b-96e7-cdb3deab574f"
      },
      "source": [
        "df2"
      ],
      "execution_count": null,
      "outputs": [
        {
          "output_type": "execute_result",
          "data": {
            "text/html": [
              "<div>\n",
              "<style scoped>\n",
              "    .dataframe tbody tr th:only-of-type {\n",
              "        vertical-align: middle;\n",
              "    }\n",
              "\n",
              "    .dataframe tbody tr th {\n",
              "        vertical-align: top;\n",
              "    }\n",
              "\n",
              "    .dataframe thead th {\n",
              "        text-align: right;\n",
              "    }\n",
              "</style>\n",
              "<table border=\"1\" class=\"dataframe\">\n",
              "  <thead>\n",
              "    <tr style=\"text-align: right;\">\n",
              "      <th></th>\n",
              "      <th>Score</th>\n",
              "    </tr>\n",
              "    <tr>\n",
              "      <th>Name</th>\n",
              "      <th></th>\n",
              "    </tr>\n",
              "  </thead>\n",
              "  <tbody>\n",
              "    <tr>\n",
              "      <th>Juri Mikoshiba</th>\n",
              "      <td>3000</td>\n",
              "    </tr>\n",
              "    <tr>\n",
              "      <th>Manato Tanaka</th>\n",
              "      <td>3000</td>\n",
              "    </tr>\n",
              "    <tr>\n",
              "      <th>Tyler Glanville</th>\n",
              "      <td>1350</td>\n",
              "    </tr>\n",
              "    <tr>\n",
              "      <th>Divyansh Gupta</th>\n",
              "      <td>1100</td>\n",
              "    </tr>\n",
              "    <tr>\n",
              "      <th>Shoukei Hada</th>\n",
              "      <td>250</td>\n",
              "    </tr>\n",
              "    <tr>\n",
              "      <th>Ota Horii</th>\n",
              "      <td>200</td>\n",
              "    </tr>\n",
              "    <tr>\n",
              "      <th>Yuvraj Jadia</th>\n",
              "      <td>100</td>\n",
              "    </tr>\n",
              "    <tr>\n",
              "      <th>Arita Mana Angelina</th>\n",
              "      <td>100</td>\n",
              "    </tr>\n",
              "    <tr>\n",
              "      <th>Shi Xintong</th>\n",
              "      <td>100</td>\n",
              "    </tr>\n",
              "    <tr>\n",
              "      <th>Zhang Tongxi</th>\n",
              "      <td>100</td>\n",
              "    </tr>\n",
              "    <tr>\n",
              "      <th>Andrew Wang</th>\n",
              "      <td>50</td>\n",
              "    </tr>\n",
              "  </tbody>\n",
              "</table>\n",
              "</div>"
            ],
            "text/plain": [
              "                     Score\n",
              "Name                      \n",
              "Juri Mikoshiba        3000\n",
              "Manato Tanaka         3000\n",
              "Tyler Glanville       1350\n",
              "Divyansh Gupta        1100\n",
              "Shoukei Hada           250\n",
              "Ota Horii              200\n",
              "Yuvraj Jadia           100\n",
              "Arita Mana Angelina    100\n",
              "Shi Xintong            100\n",
              "Zhang Tongxi           100\n",
              "Andrew Wang             50"
            ]
          },
          "metadata": {},
          "execution_count": 58
        }
      ]
    },
    {
      "cell_type": "code",
      "metadata": {
        "colab": {
          "base_uri": "https://localhost:8080/",
          "height": 394
        },
        "id": "y_p16X6g0Rk9",
        "outputId": "7189eb7b-36e0-4673-de35-31d7d34b26aa"
      },
      "source": [
        "df1"
      ],
      "execution_count": null,
      "outputs": [
        {
          "output_type": "execute_result",
          "data": {
            "text/html": [
              "<div>\n",
              "<style scoped>\n",
              "    .dataframe tbody tr th:only-of-type {\n",
              "        vertical-align: middle;\n",
              "    }\n",
              "\n",
              "    .dataframe tbody tr th {\n",
              "        vertical-align: top;\n",
              "    }\n",
              "\n",
              "    .dataframe thead th {\n",
              "        text-align: right;\n",
              "    }\n",
              "</style>\n",
              "<table border=\"1\" class=\"dataframe\">\n",
              "  <thead>\n",
              "    <tr style=\"text-align: right;\">\n",
              "      <th></th>\n",
              "      <th>Class</th>\n",
              "      <th>Score</th>\n",
              "    </tr>\n",
              "    <tr>\n",
              "      <th>Name</th>\n",
              "      <th></th>\n",
              "      <th></th>\n",
              "    </tr>\n",
              "  </thead>\n",
              "  <tbody>\n",
              "    <tr>\n",
              "      <th>Juri Mikoshiba</th>\n",
              "      <td>G6A</td>\n",
              "      <td>3000</td>\n",
              "    </tr>\n",
              "    <tr>\n",
              "      <th>Manato Tanaka</th>\n",
              "      <td>G6B</td>\n",
              "      <td>3000</td>\n",
              "    </tr>\n",
              "    <tr>\n",
              "      <th>Tyler Glanville</th>\n",
              "      <td>G6A</td>\n",
              "      <td>1350</td>\n",
              "    </tr>\n",
              "    <tr>\n",
              "      <th>Divyansh Gupta</th>\n",
              "      <td>G8A</td>\n",
              "      <td>1100</td>\n",
              "    </tr>\n",
              "    <tr>\n",
              "      <th>Shoukei Hada</th>\n",
              "      <td>G6A</td>\n",
              "      <td>250</td>\n",
              "    </tr>\n",
              "    <tr>\n",
              "      <th>Ota Horii</th>\n",
              "      <td>G6A</td>\n",
              "      <td>200</td>\n",
              "    </tr>\n",
              "    <tr>\n",
              "      <th>Yuvraj Jadia</th>\n",
              "      <td>G6B</td>\n",
              "      <td>100</td>\n",
              "    </tr>\n",
              "    <tr>\n",
              "      <th>Arita Mana Angelina</th>\n",
              "      <td>G6B</td>\n",
              "      <td>100</td>\n",
              "    </tr>\n",
              "    <tr>\n",
              "      <th>Shi Xintong</th>\n",
              "      <td>G8B</td>\n",
              "      <td>100</td>\n",
              "    </tr>\n",
              "    <tr>\n",
              "      <th>Zhang Tongxi</th>\n",
              "      <td>G7A</td>\n",
              "      <td>100</td>\n",
              "    </tr>\n",
              "  </tbody>\n",
              "</table>\n",
              "</div>"
            ],
            "text/plain": [
              "                    Class  Score\n",
              "Name                            \n",
              "Juri Mikoshiba        G6A   3000\n",
              "Manato Tanaka         G6B   3000\n",
              "Tyler Glanville       G6A   1350\n",
              "Divyansh Gupta        G8A   1100\n",
              "Shoukei Hada          G6A    250\n",
              "Ota Horii             G6A    200\n",
              "Yuvraj Jadia          G6B    100\n",
              "Arita Mana Angelina   G6B    100\n",
              "Shi Xintong           G8B    100\n",
              "Zhang Tongxi          G7A    100"
            ]
          },
          "metadata": {},
          "execution_count": 59
        }
      ]
    },
    {
      "cell_type": "code",
      "metadata": {
        "id": "70Vq7tT2Yt_6"
      },
      "source": [
        "df = check_and_remove_descrepancies(df1,df2)"
      ],
      "execution_count": null,
      "outputs": []
    },
    {
      "cell_type": "code",
      "metadata": {
        "colab": {
          "base_uri": "https://localhost:8080/",
          "height": 425
        },
        "id": "orxalfGKzugQ",
        "outputId": "c7a53d5c-ea0b-48f9-8cab-d0b36154d2ea"
      },
      "source": [
        "df"
      ],
      "execution_count": null,
      "outputs": [
        {
          "output_type": "execute_result",
          "data": {
            "text/html": [
              "<div>\n",
              "<style scoped>\n",
              "    .dataframe tbody tr th:only-of-type {\n",
              "        vertical-align: middle;\n",
              "    }\n",
              "\n",
              "    .dataframe tbody tr th {\n",
              "        vertical-align: top;\n",
              "    }\n",
              "\n",
              "    .dataframe thead th {\n",
              "        text-align: right;\n",
              "    }\n",
              "</style>\n",
              "<table border=\"1\" class=\"dataframe\">\n",
              "  <thead>\n",
              "    <tr style=\"text-align: right;\">\n",
              "      <th></th>\n",
              "      <th>Class</th>\n",
              "      <th>Score</th>\n",
              "    </tr>\n",
              "    <tr>\n",
              "      <th>Name</th>\n",
              "      <th></th>\n",
              "      <th></th>\n",
              "    </tr>\n",
              "  </thead>\n",
              "  <tbody>\n",
              "    <tr>\n",
              "      <th>Juri Mikoshiba</th>\n",
              "      <td>G6A</td>\n",
              "      <td>6000.0</td>\n",
              "    </tr>\n",
              "    <tr>\n",
              "      <th>Manato Tanaka</th>\n",
              "      <td>G6B</td>\n",
              "      <td>6000.0</td>\n",
              "    </tr>\n",
              "    <tr>\n",
              "      <th>Tyler Glanville</th>\n",
              "      <td>G6A</td>\n",
              "      <td>2700.0</td>\n",
              "    </tr>\n",
              "    <tr>\n",
              "      <th>Divyansh Gupta</th>\n",
              "      <td>G8A</td>\n",
              "      <td>2200.0</td>\n",
              "    </tr>\n",
              "    <tr>\n",
              "      <th>Shoukei Hada</th>\n",
              "      <td>G6A</td>\n",
              "      <td>500.0</td>\n",
              "    </tr>\n",
              "    <tr>\n",
              "      <th>Ota Horii</th>\n",
              "      <td>G6A</td>\n",
              "      <td>400.0</td>\n",
              "    </tr>\n",
              "    <tr>\n",
              "      <th>Yuvraj Jadia</th>\n",
              "      <td>G6B</td>\n",
              "      <td>200.0</td>\n",
              "    </tr>\n",
              "    <tr>\n",
              "      <th>Arita Mana Angelina</th>\n",
              "      <td>G6B</td>\n",
              "      <td>200.0</td>\n",
              "    </tr>\n",
              "    <tr>\n",
              "      <th>Shi Xintong</th>\n",
              "      <td>G8B</td>\n",
              "      <td>200.0</td>\n",
              "    </tr>\n",
              "    <tr>\n",
              "      <th>Zhang Tongxi</th>\n",
              "      <td>G7A</td>\n",
              "      <td>200.0</td>\n",
              "    </tr>\n",
              "    <tr>\n",
              "      <th>11</th>\n",
              "      <td>NaN</td>\n",
              "      <td>50.0</td>\n",
              "    </tr>\n",
              "  </tbody>\n",
              "</table>\n",
              "</div>"
            ],
            "text/plain": [
              "                    Class   Score\n",
              "Name                             \n",
              "Juri Mikoshiba        G6A  6000.0\n",
              "Manato Tanaka         G6B  6000.0\n",
              "Tyler Glanville       G6A  2700.0\n",
              "Divyansh Gupta        G8A  2200.0\n",
              "Shoukei Hada          G6A   500.0\n",
              "Ota Horii             G6A   400.0\n",
              "Yuvraj Jadia          G6B   200.0\n",
              "Arita Mana Angelina   G6B   200.0\n",
              "Shi Xintong           G8B   200.0\n",
              "Zhang Tongxi          G7A   200.0\n",
              "11                    NaN    50.0"
            ]
          },
          "metadata": {},
          "execution_count": 61
        }
      ]
    },
    {
      "cell_type": "code",
      "metadata": {
        "colab": {
          "base_uri": "https://localhost:8080/",
          "height": 394
        },
        "id": "j5aknqDyZGXx",
        "outputId": "3455c58d-59d0-493c-e55c-326fe079333c"
      },
      "source": [
        "df2"
      ],
      "execution_count": null,
      "outputs": [
        {
          "output_type": "execute_result",
          "data": {
            "text/html": [
              "<div>\n",
              "<style scoped>\n",
              "    .dataframe tbody tr th:only-of-type {\n",
              "        vertical-align: middle;\n",
              "    }\n",
              "\n",
              "    .dataframe tbody tr th {\n",
              "        vertical-align: top;\n",
              "    }\n",
              "\n",
              "    .dataframe thead th {\n",
              "        text-align: right;\n",
              "    }\n",
              "</style>\n",
              "<table border=\"1\" class=\"dataframe\">\n",
              "  <thead>\n",
              "    <tr style=\"text-align: right;\">\n",
              "      <th></th>\n",
              "      <th>Class</th>\n",
              "      <th>Score</th>\n",
              "    </tr>\n",
              "    <tr>\n",
              "      <th>Name</th>\n",
              "      <th></th>\n",
              "      <th></th>\n",
              "    </tr>\n",
              "  </thead>\n",
              "  <tbody>\n",
              "    <tr>\n",
              "      <th>Juri Mikoshiba</th>\n",
              "      <td>G6A</td>\n",
              "      <td>3000</td>\n",
              "    </tr>\n",
              "    <tr>\n",
              "      <th>Manato Tanaka</th>\n",
              "      <td>G6B</td>\n",
              "      <td>3000</td>\n",
              "    </tr>\n",
              "    <tr>\n",
              "      <th>Tyler Glanville</th>\n",
              "      <td>G6A</td>\n",
              "      <td>1350</td>\n",
              "    </tr>\n",
              "    <tr>\n",
              "      <th>Divyansh Gupta</th>\n",
              "      <td>G8A</td>\n",
              "      <td>1100</td>\n",
              "    </tr>\n",
              "    <tr>\n",
              "      <th>Shoukei Hada</th>\n",
              "      <td>G6A</td>\n",
              "      <td>250</td>\n",
              "    </tr>\n",
              "    <tr>\n",
              "      <th>Ota Horii</th>\n",
              "      <td>G6A</td>\n",
              "      <td>200</td>\n",
              "    </tr>\n",
              "    <tr>\n",
              "      <th>Yuvraj Jadia</th>\n",
              "      <td>G6B</td>\n",
              "      <td>100</td>\n",
              "    </tr>\n",
              "    <tr>\n",
              "      <th>Arita Mana Angelina</th>\n",
              "      <td>G6B</td>\n",
              "      <td>100</td>\n",
              "    </tr>\n",
              "    <tr>\n",
              "      <th>Shi Xintong</th>\n",
              "      <td>G8B</td>\n",
              "      <td>100</td>\n",
              "    </tr>\n",
              "    <tr>\n",
              "      <th>Zhang Tongxi</th>\n",
              "      <td>G7A</td>\n",
              "      <td>100</td>\n",
              "    </tr>\n",
              "  </tbody>\n",
              "</table>\n",
              "</div>"
            ],
            "text/plain": [
              "                    Class  Score\n",
              "Name                            \n",
              "Juri Mikoshiba        G6A   3000\n",
              "Manato Tanaka         G6B   3000\n",
              "Tyler Glanville       G6A   1350\n",
              "Divyansh Gupta        G8A   1100\n",
              "Shoukei Hada          G6A    250\n",
              "Ota Horii             G6A    200\n",
              "Yuvraj Jadia          G6B    100\n",
              "Arita Mana Angelina   G6B    100\n",
              "Shi Xintong           G8B    100\n",
              "Zhang Tongxi          G7A    100"
            ]
          },
          "metadata": {},
          "execution_count": 32
        }
      ]
    },
    {
      "cell_type": "code",
      "metadata": {
        "colab": {
          "base_uri": "https://localhost:8080/",
          "height": 394
        },
        "id": "yZ0GIU3kZH3t",
        "outputId": "e1ca8efc-a81e-41e1-f4c3-b1334e5c4ed7"
      },
      "source": [
        "df1"
      ],
      "execution_count": null,
      "outputs": [
        {
          "output_type": "execute_result",
          "data": {
            "text/html": [
              "<div>\n",
              "<style scoped>\n",
              "    .dataframe tbody tr th:only-of-type {\n",
              "        vertical-align: middle;\n",
              "    }\n",
              "\n",
              "    .dataframe tbody tr th {\n",
              "        vertical-align: top;\n",
              "    }\n",
              "\n",
              "    .dataframe thead th {\n",
              "        text-align: right;\n",
              "    }\n",
              "</style>\n",
              "<table border=\"1\" class=\"dataframe\">\n",
              "  <thead>\n",
              "    <tr style=\"text-align: right;\">\n",
              "      <th></th>\n",
              "      <th>Class</th>\n",
              "      <th>Score</th>\n",
              "    </tr>\n",
              "    <tr>\n",
              "      <th>Name</th>\n",
              "      <th></th>\n",
              "      <th></th>\n",
              "    </tr>\n",
              "  </thead>\n",
              "  <tbody>\n",
              "    <tr>\n",
              "      <th>Juri Mikoshiba</th>\n",
              "      <td>G6A</td>\n",
              "      <td>6000</td>\n",
              "    </tr>\n",
              "    <tr>\n",
              "      <th>Manato Tanaka</th>\n",
              "      <td>G6B</td>\n",
              "      <td>6000</td>\n",
              "    </tr>\n",
              "    <tr>\n",
              "      <th>Tyler Glanville</th>\n",
              "      <td>G6A</td>\n",
              "      <td>2700</td>\n",
              "    </tr>\n",
              "    <tr>\n",
              "      <th>Divyansh Gupta</th>\n",
              "      <td>G8A</td>\n",
              "      <td>2200</td>\n",
              "    </tr>\n",
              "    <tr>\n",
              "      <th>Shoukei Hada</th>\n",
              "      <td>G6A</td>\n",
              "      <td>500</td>\n",
              "    </tr>\n",
              "    <tr>\n",
              "      <th>Ota Horii</th>\n",
              "      <td>G6A</td>\n",
              "      <td>400</td>\n",
              "    </tr>\n",
              "    <tr>\n",
              "      <th>Yuvraj Jadia</th>\n",
              "      <td>G6B</td>\n",
              "      <td>200</td>\n",
              "    </tr>\n",
              "    <tr>\n",
              "      <th>Arita Mana Angelina</th>\n",
              "      <td>G6B</td>\n",
              "      <td>200</td>\n",
              "    </tr>\n",
              "    <tr>\n",
              "      <th>Shi Xintong</th>\n",
              "      <td>G8B</td>\n",
              "      <td>200</td>\n",
              "    </tr>\n",
              "    <tr>\n",
              "      <th>Zhang Tongxi</th>\n",
              "      <td>G7A</td>\n",
              "      <td>200</td>\n",
              "    </tr>\n",
              "  </tbody>\n",
              "</table>\n",
              "</div>"
            ],
            "text/plain": [
              "                    Class  Score\n",
              "Name                            \n",
              "Juri Mikoshiba        G6A   6000\n",
              "Manato Tanaka         G6B   6000\n",
              "Tyler Glanville       G6A   2700\n",
              "Divyansh Gupta        G8A   2200\n",
              "Shoukei Hada          G6A    500\n",
              "Ota Horii             G6A    400\n",
              "Yuvraj Jadia          G6B    200\n",
              "Arita Mana Angelina   G6B    200\n",
              "Shi Xintong           G8B    200\n",
              "Zhang Tongxi          G7A    200"
            ]
          },
          "metadata": {},
          "execution_count": 33
        }
      ]
    },
    {
      "cell_type": "code",
      "metadata": {
        "colab": {
          "base_uri": "https://localhost:8080/",
          "height": 394
        },
        "id": "4WzCfiVbZDSg",
        "outputId": "182fe59e-1309-4b82-ec18-f4014dd991d2"
      },
      "source": [
        "df"
      ],
      "execution_count": null,
      "outputs": [
        {
          "output_type": "execute_result",
          "data": {
            "text/html": [
              "<div>\n",
              "<style scoped>\n",
              "    .dataframe tbody tr th:only-of-type {\n",
              "        vertical-align: middle;\n",
              "    }\n",
              "\n",
              "    .dataframe tbody tr th {\n",
              "        vertical-align: top;\n",
              "    }\n",
              "\n",
              "    .dataframe thead th {\n",
              "        text-align: right;\n",
              "    }\n",
              "</style>\n",
              "<table border=\"1\" class=\"dataframe\">\n",
              "  <thead>\n",
              "    <tr style=\"text-align: right;\">\n",
              "      <th></th>\n",
              "      <th>Class</th>\n",
              "      <th>Score</th>\n",
              "    </tr>\n",
              "    <tr>\n",
              "      <th>Name</th>\n",
              "      <th></th>\n",
              "      <th></th>\n",
              "    </tr>\n",
              "  </thead>\n",
              "  <tbody>\n",
              "    <tr>\n",
              "      <th>Juri Mikoshiba</th>\n",
              "      <td>G6A</td>\n",
              "      <td>6000</td>\n",
              "    </tr>\n",
              "    <tr>\n",
              "      <th>Manato Tanaka</th>\n",
              "      <td>G6B</td>\n",
              "      <td>6000</td>\n",
              "    </tr>\n",
              "    <tr>\n",
              "      <th>Tyler Glanville</th>\n",
              "      <td>G6A</td>\n",
              "      <td>2700</td>\n",
              "    </tr>\n",
              "    <tr>\n",
              "      <th>Divyansh Gupta</th>\n",
              "      <td>G8A</td>\n",
              "      <td>2200</td>\n",
              "    </tr>\n",
              "    <tr>\n",
              "      <th>Shoukei Hada</th>\n",
              "      <td>G6A</td>\n",
              "      <td>500</td>\n",
              "    </tr>\n",
              "    <tr>\n",
              "      <th>Ota Horii</th>\n",
              "      <td>G6A</td>\n",
              "      <td>400</td>\n",
              "    </tr>\n",
              "    <tr>\n",
              "      <th>Yuvraj Jadia</th>\n",
              "      <td>G6B</td>\n",
              "      <td>200</td>\n",
              "    </tr>\n",
              "    <tr>\n",
              "      <th>Arita Mana Angelina</th>\n",
              "      <td>G6B</td>\n",
              "      <td>200</td>\n",
              "    </tr>\n",
              "    <tr>\n",
              "      <th>Shi Xintong</th>\n",
              "      <td>G8B</td>\n",
              "      <td>200</td>\n",
              "    </tr>\n",
              "    <tr>\n",
              "      <th>Zhang Tongxi</th>\n",
              "      <td>G7A</td>\n",
              "      <td>200</td>\n",
              "    </tr>\n",
              "  </tbody>\n",
              "</table>\n",
              "</div>"
            ],
            "text/plain": [
              "                    Class  Score\n",
              "Name                            \n",
              "Juri Mikoshiba        G6A   6000\n",
              "Manato Tanaka         G6B   6000\n",
              "Tyler Glanville       G6A   2700\n",
              "Divyansh Gupta        G8A   2200\n",
              "Shoukei Hada          G6A    500\n",
              "Ota Horii             G6A    400\n",
              "Yuvraj Jadia          G6B    200\n",
              "Arita Mana Angelina   G6B    200\n",
              "Shi Xintong           G8B    200\n",
              "Zhang Tongxi          G7A    200"
            ]
          },
          "metadata": {},
          "execution_count": 30
        }
      ]
    },
    {
      "cell_type": "code",
      "metadata": {
        "colab": {
          "base_uri": "https://localhost:8080/"
        },
        "id": "mpwHnMrOSUAB",
        "outputId": "09fd3103-8a9a-4119-9a74-0aa083c281ae"
      },
      "source": [
        "test_1,df2 = read_excel_file(\"Math Commitee Data (3).xlsx\",1,2,1,12)"
      ],
      "execution_count": null,
      "outputs": [
        {
          "output_type": "stream",
          "name": "stdout",
          "text": [
            "Name\n",
            "Class\n",
            "Score\n",
            "None\n",
            "None\n",
            "None\n",
            "None\n",
            "None\n",
            "None\n",
            "None\n",
            "None\n",
            "=====================================\n"
          ]
        }
      ]
    },
    {
      "cell_type": "code",
      "metadata": {
        "id": "-hYsndh_ZAPY"
      },
      "source": [
        "df2"
      ],
      "execution_count": null,
      "outputs": []
    },
    {
      "cell_type": "code",
      "metadata": {
        "colab": {
          "base_uri": "https://localhost:8080/",
          "height": 166
        },
        "id": "KXmVr5-vTpyp",
        "outputId": "cbb94466-aa76-4f60-ef91-05b3c25b1fed"
      },
      "source": [
        "df1"
      ],
      "execution_count": null,
      "outputs": [
        {
          "output_type": "error",
          "ename": "NameError",
          "evalue": "ignored",
          "traceback": [
            "\u001b[0;31m---------------------------------------------------------------------------\u001b[0m",
            "\u001b[0;31mNameError\u001b[0m                                 Traceback (most recent call last)",
            "\u001b[0;32m<ipython-input-17-6a861a8b3f1a>\u001b[0m in \u001b[0;36m<module>\u001b[0;34m()\u001b[0m\n\u001b[0;32m----> 1\u001b[0;31m \u001b[0mdf1\u001b[0m\u001b[0;34m\u001b[0m\u001b[0;34m\u001b[0m\u001b[0m\n\u001b[0m",
            "\u001b[0;31mNameError\u001b[0m: name 'df1' is not defined"
          ]
        }
      ]
    },
    {
      "cell_type": "code",
      "metadata": {
        "colab": {
          "base_uri": "https://localhost:8080/",
          "height": 166
        },
        "id": "2tSIalHWTygB",
        "outputId": "dfd548f6-d46a-4aa9-ba55-d994fba1fe67"
      },
      "source": [
        "test_1"
      ],
      "execution_count": null,
      "outputs": [
        {
          "output_type": "error",
          "ename": "NameError",
          "evalue": "ignored",
          "traceback": [
            "\u001b[0;31m---------------------------------------------------------------------------\u001b[0m",
            "\u001b[0;31mNameError\u001b[0m                                 Traceback (most recent call last)",
            "\u001b[0;32m<ipython-input-18-a57edfa16a58>\u001b[0m in \u001b[0;36m<module>\u001b[0;34m()\u001b[0m\n\u001b[0;32m----> 1\u001b[0;31m \u001b[0mtest_1\u001b[0m\u001b[0;34m\u001b[0m\u001b[0;34m\u001b[0m\u001b[0m\n\u001b[0m",
            "\u001b[0;31mNameError\u001b[0m: name 'test_1' is not defined"
          ]
        }
      ]
    },
    {
      "cell_type": "code",
      "metadata": {
        "colab": {
          "base_uri": "https://localhost:8080/"
        },
        "id": "v7dLhIJfT0O3",
        "outputId": "c31ccca9-6647-4856-8f63-06d0e74e6ce1"
      },
      "source": [
        "df.index"
      ],
      "execution_count": null,
      "outputs": [
        {
          "output_type": "execute_result",
          "data": {
            "text/plain": [
              "Index(['Juri Mikoshiba', 'Manato Tanaka ', 'Tyler Glanville', 'Divyansh Gupta',\n",
              "       'Shoukei Hada', 'Ota Horii', 'Yuvraj Jadia', 'Arita Mana Angelina',\n",
              "       'Shi Xintong', 'Zhang Tongxi'],\n",
              "      dtype='object', name='Name')"
            ]
          },
          "metadata": {},
          "execution_count": 19
        }
      ]
    },
    {
      "cell_type": "code",
      "metadata": {
        "colab": {
          "base_uri": "https://localhost:8080/",
          "height": 287
        },
        "id": "veu7Vb3kT9aB",
        "outputId": "d21cd693-e33a-428c-9493-d6b556af04c2"
      },
      "source": [
        "df.index[2] = \"Tyler Glanville\""
      ],
      "execution_count": null,
      "outputs": [
        {
          "output_type": "error",
          "ename": "TypeError",
          "evalue": "ignored",
          "traceback": [
            "\u001b[0;31m---------------------------------------------------------------------------\u001b[0m",
            "\u001b[0;31mTypeError\u001b[0m                                 Traceback (most recent call last)",
            "\u001b[0;32m<ipython-input-20-b3db92fcd4cd>\u001b[0m in \u001b[0;36m<module>\u001b[0;34m()\u001b[0m\n\u001b[0;32m----> 1\u001b[0;31m \u001b[0mdf\u001b[0m\u001b[0;34m.\u001b[0m\u001b[0mindex\u001b[0m\u001b[0;34m[\u001b[0m\u001b[0;36m2\u001b[0m\u001b[0;34m]\u001b[0m \u001b[0;34m=\u001b[0m \u001b[0;34m\"Tyler Glanville\"\u001b[0m\u001b[0;34m\u001b[0m\u001b[0;34m\u001b[0m\u001b[0m\n\u001b[0m",
            "\u001b[0;32m/usr/local/lib/python3.7/dist-packages/pandas/core/indexes/base.py\u001b[0m in \u001b[0;36m__setitem__\u001b[0;34m(self, key, value)\u001b[0m\n\u001b[1;32m   4082\u001b[0m \u001b[0;34m\u001b[0m\u001b[0m\n\u001b[1;32m   4083\u001b[0m     \u001b[0;32mdef\u001b[0m \u001b[0m__setitem__\u001b[0m\u001b[0;34m(\u001b[0m\u001b[0mself\u001b[0m\u001b[0;34m,\u001b[0m \u001b[0mkey\u001b[0m\u001b[0;34m,\u001b[0m \u001b[0mvalue\u001b[0m\u001b[0;34m)\u001b[0m\u001b[0;34m:\u001b[0m\u001b[0;34m\u001b[0m\u001b[0;34m\u001b[0m\u001b[0m\n\u001b[0;32m-> 4084\u001b[0;31m         \u001b[0;32mraise\u001b[0m \u001b[0mTypeError\u001b[0m\u001b[0;34m(\u001b[0m\u001b[0;34m\"Index does not support mutable operations\"\u001b[0m\u001b[0;34m)\u001b[0m\u001b[0;34m\u001b[0m\u001b[0;34m\u001b[0m\u001b[0m\n\u001b[0m\u001b[1;32m   4085\u001b[0m \u001b[0;34m\u001b[0m\u001b[0m\n\u001b[1;32m   4086\u001b[0m     \u001b[0;32mdef\u001b[0m \u001b[0m__getitem__\u001b[0m\u001b[0;34m(\u001b[0m\u001b[0mself\u001b[0m\u001b[0;34m,\u001b[0m \u001b[0mkey\u001b[0m\u001b[0;34m)\u001b[0m\u001b[0;34m:\u001b[0m\u001b[0;34m\u001b[0m\u001b[0;34m\u001b[0m\u001b[0m\n",
            "\u001b[0;31mTypeError\u001b[0m: Index does not support mutable operations"
          ]
        }
      ]
    },
    {
      "cell_type": "code",
      "metadata": {
        "colab": {
          "base_uri": "https://localhost:8080/"
        },
        "id": "CzWdSh4VUAj8",
        "outputId": "db1b8f65-5629-49e2-c683-b31a4dcdb344"
      },
      "source": [
        "list(df.index)"
      ],
      "execution_count": null,
      "outputs": [
        {
          "output_type": "execute_result",
          "data": {
            "text/plain": [
              "['Juri Mikoshiba',\n",
              " 'Manato Tanaka ',\n",
              " 'Tyler Glanville',\n",
              " 'Divyansh Gupta',\n",
              " 'Shoukei Hada',\n",
              " 'Ota Horii',\n",
              " 'Yuvraj Jadia',\n",
              " 'Arita Mana Angelina',\n",
              " 'Shi Xintong',\n",
              " 'Zhang Tongxi']"
            ]
          },
          "metadata": {},
          "execution_count": 21
        }
      ]
    },
    {
      "cell_type": "code",
      "metadata": {
        "id": "fBxjDkDCUevA"
      },
      "source": [
        "indexes = list(df.index)"
      ],
      "execution_count": null,
      "outputs": []
    },
    {
      "cell_type": "code",
      "metadata": {
        "colab": {
          "base_uri": "https://localhost:8080/"
        },
        "id": "n99Y4NPlUQVw",
        "outputId": "87140f1e-2d68-4cc4-c8bf-dd1c999a2c0e"
      },
      "source": [
        "for i in range(len(indexes)):\n",
        "  print(i)\n",
        "  x = indexes[i].replace(\"\\t\",\"\")\n",
        "  x = x.replace(\"\\n\",\"\")\n",
        "  indexes[i] = x\n",
        "\n"
      ],
      "execution_count": null,
      "outputs": [
        {
          "output_type": "stream",
          "name": "stdout",
          "text": [
            "0\n",
            "1\n",
            "2\n",
            "3\n",
            "4\n",
            "5\n",
            "6\n",
            "7\n",
            "8\n",
            "9\n",
            "10\n"
          ]
        }
      ]
    },
    {
      "cell_type": "code",
      "metadata": {
        "colab": {
          "base_uri": "https://localhost:8080/",
          "height": 408
        },
        "id": "Q5RVO7MeU31W",
        "outputId": "90992e50-1317-4294-9057-a37a9b17711b"
      },
      "source": [
        "df = df.set_index(\"Score\")\n",
        "df"
      ],
      "execution_count": null,
      "outputs": [
        {
          "output_type": "execute_result",
          "data": {
            "text/html": [
              "<div>\n",
              "<style scoped>\n",
              "    .dataframe tbody tr th:only-of-type {\n",
              "        vertical-align: middle;\n",
              "    }\n",
              "\n",
              "    .dataframe tbody tr th {\n",
              "        vertical-align: top;\n",
              "    }\n",
              "\n",
              "    .dataframe thead th {\n",
              "        text-align: right;\n",
              "    }\n",
              "</style>\n",
              "<table border=\"1\" class=\"dataframe\">\n",
              "  <thead>\n",
              "    <tr style=\"text-align: right;\">\n",
              "      <th></th>\n",
              "    </tr>\n",
              "    <tr>\n",
              "      <th>Score</th>\n",
              "    </tr>\n",
              "  </thead>\n",
              "  <tbody>\n",
              "    <tr>\n",
              "      <th>3000</th>\n",
              "    </tr>\n",
              "    <tr>\n",
              "      <th>3000</th>\n",
              "    </tr>\n",
              "    <tr>\n",
              "      <th>1350</th>\n",
              "    </tr>\n",
              "    <tr>\n",
              "      <th>1100</th>\n",
              "    </tr>\n",
              "    <tr>\n",
              "      <th>250</th>\n",
              "    </tr>\n",
              "    <tr>\n",
              "      <th>200</th>\n",
              "    </tr>\n",
              "    <tr>\n",
              "      <th>100</th>\n",
              "    </tr>\n",
              "    <tr>\n",
              "      <th>100</th>\n",
              "    </tr>\n",
              "    <tr>\n",
              "      <th>100</th>\n",
              "    </tr>\n",
              "    <tr>\n",
              "      <th>100</th>\n",
              "    </tr>\n",
              "    <tr>\n",
              "      <th>50</th>\n",
              "    </tr>\n",
              "  </tbody>\n",
              "</table>\n",
              "</div>"
            ],
            "text/plain": [
              "Empty DataFrame\n",
              "Columns: []\n",
              "Index: [3000, 3000, 1350, 1100, 250, 200, 100, 100, 100, 100, 50]"
            ]
          },
          "metadata": {},
          "execution_count": 53
        }
      ]
    },
    {
      "cell_type": "code",
      "metadata": {
        "id": "1U4l8JDwWGY8"
      },
      "source": [
        "df[\"Name\"] = indexes"
      ],
      "execution_count": null,
      "outputs": []
    },
    {
      "cell_type": "code",
      "metadata": {
        "colab": {
          "base_uri": "https://localhost:8080/",
          "height": 425
        },
        "id": "bztaDSbWWZCf",
        "outputId": "42894371-8680-4dfa-cde4-8618aa0f8bf4"
      },
      "source": [
        "df"
      ],
      "execution_count": null,
      "outputs": [
        {
          "output_type": "execute_result",
          "data": {
            "text/html": [
              "<div>\n",
              "<style scoped>\n",
              "    .dataframe tbody tr th:only-of-type {\n",
              "        vertical-align: middle;\n",
              "    }\n",
              "\n",
              "    .dataframe tbody tr th {\n",
              "        vertical-align: top;\n",
              "    }\n",
              "\n",
              "    .dataframe thead th {\n",
              "        text-align: right;\n",
              "    }\n",
              "</style>\n",
              "<table border=\"1\" class=\"dataframe\">\n",
              "  <thead>\n",
              "    <tr style=\"text-align: right;\">\n",
              "      <th></th>\n",
              "      <th>Name</th>\n",
              "    </tr>\n",
              "    <tr>\n",
              "      <th>Score</th>\n",
              "      <th></th>\n",
              "    </tr>\n",
              "  </thead>\n",
              "  <tbody>\n",
              "    <tr>\n",
              "      <th>3000</th>\n",
              "      <td>Juri Mikoshiba</td>\n",
              "    </tr>\n",
              "    <tr>\n",
              "      <th>3000</th>\n",
              "      <td>Manato Tanaka</td>\n",
              "    </tr>\n",
              "    <tr>\n",
              "      <th>1350</th>\n",
              "      <td>Tyler Glanville</td>\n",
              "    </tr>\n",
              "    <tr>\n",
              "      <th>1100</th>\n",
              "      <td>Divyansh Gupta</td>\n",
              "    </tr>\n",
              "    <tr>\n",
              "      <th>250</th>\n",
              "      <td>Shoukei Hada</td>\n",
              "    </tr>\n",
              "    <tr>\n",
              "      <th>200</th>\n",
              "      <td>Ota Horii</td>\n",
              "    </tr>\n",
              "    <tr>\n",
              "      <th>100</th>\n",
              "      <td>Yuvraj Jadia</td>\n",
              "    </tr>\n",
              "    <tr>\n",
              "      <th>100</th>\n",
              "      <td>Arita Mana Angelina</td>\n",
              "    </tr>\n",
              "    <tr>\n",
              "      <th>100</th>\n",
              "      <td>Shi Xintong</td>\n",
              "    </tr>\n",
              "    <tr>\n",
              "      <th>100</th>\n",
              "      <td>Zhang Tongxi</td>\n",
              "    </tr>\n",
              "    <tr>\n",
              "      <th>50</th>\n",
              "      <td>Andrew Wang</td>\n",
              "    </tr>\n",
              "  </tbody>\n",
              "</table>\n",
              "</div>"
            ],
            "text/plain": [
              "                      Name\n",
              "Score                     \n",
              "3000        Juri Mikoshiba\n",
              "3000        Manato Tanaka \n",
              "1350       Tyler Glanville\n",
              "1100        Divyansh Gupta\n",
              "250           Shoukei Hada\n",
              "200              Ota Horii\n",
              "100           Yuvraj Jadia\n",
              "100    Arita Mana Angelina\n",
              "100            Shi Xintong\n",
              "100           Zhang Tongxi\n",
              "50             Andrew Wang"
            ]
          },
          "metadata": {},
          "execution_count": 56
        }
      ]
    },
    {
      "cell_type": "code",
      "metadata": {
        "colab": {
          "base_uri": "https://localhost:8080/",
          "height": 408
        },
        "id": "lhxaS-kqWakE",
        "outputId": "cdc66547-5895-4197-c90e-85c2f65a7247"
      },
      "source": [
        "df.set_index(\"Name\")"
      ],
      "execution_count": null,
      "outputs": [
        {
          "output_type": "execute_result",
          "data": {
            "text/html": [
              "<div>\n",
              "<style scoped>\n",
              "    .dataframe tbody tr th:only-of-type {\n",
              "        vertical-align: middle;\n",
              "    }\n",
              "\n",
              "    .dataframe tbody tr th {\n",
              "        vertical-align: top;\n",
              "    }\n",
              "\n",
              "    .dataframe thead th {\n",
              "        text-align: right;\n",
              "    }\n",
              "</style>\n",
              "<table border=\"1\" class=\"dataframe\">\n",
              "  <thead>\n",
              "    <tr style=\"text-align: right;\">\n",
              "      <th></th>\n",
              "    </tr>\n",
              "    <tr>\n",
              "      <th>Name</th>\n",
              "    </tr>\n",
              "  </thead>\n",
              "  <tbody>\n",
              "    <tr>\n",
              "      <th>Juri Mikoshiba</th>\n",
              "    </tr>\n",
              "    <tr>\n",
              "      <th>Manato Tanaka</th>\n",
              "    </tr>\n",
              "    <tr>\n",
              "      <th>Tyler Glanville</th>\n",
              "    </tr>\n",
              "    <tr>\n",
              "      <th>Divyansh Gupta</th>\n",
              "    </tr>\n",
              "    <tr>\n",
              "      <th>Shoukei Hada</th>\n",
              "    </tr>\n",
              "    <tr>\n",
              "      <th>Ota Horii</th>\n",
              "    </tr>\n",
              "    <tr>\n",
              "      <th>Yuvraj Jadia</th>\n",
              "    </tr>\n",
              "    <tr>\n",
              "      <th>Arita Mana Angelina</th>\n",
              "    </tr>\n",
              "    <tr>\n",
              "      <th>Shi Xintong</th>\n",
              "    </tr>\n",
              "    <tr>\n",
              "      <th>Zhang Tongxi</th>\n",
              "    </tr>\n",
              "    <tr>\n",
              "      <th>Andrew Wang</th>\n",
              "    </tr>\n",
              "  </tbody>\n",
              "</table>\n",
              "</div>"
            ],
            "text/plain": [
              "Empty DataFrame\n",
              "Columns: []\n",
              "Index: [Juri Mikoshiba, Manato Tanaka , Tyler Glanville, Divyansh Gupta, Shoukei Hada, Ota Horii, Yuvraj Jadia, Arita Mana Angelina, Shi Xintong, Zhang Tongxi, Andrew Wang]"
            ]
          },
          "metadata": {},
          "execution_count": 58
        }
      ]
    },
    {
      "cell_type": "code",
      "metadata": {
        "colab": {
          "base_uri": "https://localhost:8080/"
        },
        "id": "BffYWDxNYPRJ",
        "outputId": "3f4f505c-25d7-41dc-abc7-6102442b759c"
      },
      "source": [
        "df.Score"
      ],
      "execution_count": null,
      "outputs": [
        {
          "output_type": "execute_result",
          "data": {
            "text/plain": [
              "Name\n",
              "Juri Mikoshiba           3000\n",
              "Manato Tanaka            3000\n",
              "\\tTyler Glanville        1350\n",
              "\\n\\t\\nDivyansh Gupta     1100\n",
              "Shoukei Hada              250\n",
              "\\nOta Horii               200\n",
              "\\tYuvraj Jadia            100\n",
              "\\tArita Mana Angelina     100\n",
              "\\tShi Xintong             100\n",
              "Zhang Tongxi              100\n",
              "Andrew Wang                50\n",
              "Name: Score, dtype: int64"
            ]
          },
          "metadata": {},
          "execution_count": 87
        }
      ]
    },
    {
      "cell_type": "code",
      "metadata": {
        "id": "nNiwdkOWWhWV"
      },
      "source": [
        ""
      ],
      "execution_count": null,
      "outputs": []
    },
    {
      "cell_type": "code",
      "metadata": {
        "colab": {
          "base_uri": "https://localhost:8080/",
          "height": 425
        },
        "id": "1mWuYEqfXlCS",
        "outputId": "fe73e9a9-bacf-41bc-c01c-085fbe94efa6"
      },
      "source": [
        "df"
      ],
      "execution_count": null,
      "outputs": [
        {
          "output_type": "execute_result",
          "data": {
            "text/html": [
              "<div>\n",
              "<style scoped>\n",
              "    .dataframe tbody tr th:only-of-type {\n",
              "        vertical-align: middle;\n",
              "    }\n",
              "\n",
              "    .dataframe tbody tr th {\n",
              "        vertical-align: top;\n",
              "    }\n",
              "\n",
              "    .dataframe thead th {\n",
              "        text-align: right;\n",
              "    }\n",
              "</style>\n",
              "<table border=\"1\" class=\"dataframe\">\n",
              "  <thead>\n",
              "    <tr style=\"text-align: right;\">\n",
              "      <th></th>\n",
              "      <th>Score</th>\n",
              "    </tr>\n",
              "    <tr>\n",
              "      <th>Name</th>\n",
              "      <th></th>\n",
              "    </tr>\n",
              "  </thead>\n",
              "  <tbody>\n",
              "    <tr>\n",
              "      <th>Juri Mikoshiba</th>\n",
              "      <td>3000</td>\n",
              "    </tr>\n",
              "    <tr>\n",
              "      <th>Manato Tanaka</th>\n",
              "      <td>3000</td>\n",
              "    </tr>\n",
              "    <tr>\n",
              "      <th>\\tTyler Glanville</th>\n",
              "      <td>1350</td>\n",
              "    </tr>\n",
              "    <tr>\n",
              "      <th>\\n\\t\\nDivyansh Gupta</th>\n",
              "      <td>1100</td>\n",
              "    </tr>\n",
              "    <tr>\n",
              "      <th>Shoukei Hada</th>\n",
              "      <td>250</td>\n",
              "    </tr>\n",
              "    <tr>\n",
              "      <th>\\nOta Horii</th>\n",
              "      <td>200</td>\n",
              "    </tr>\n",
              "    <tr>\n",
              "      <th>\\tYuvraj Jadia</th>\n",
              "      <td>100</td>\n",
              "    </tr>\n",
              "    <tr>\n",
              "      <th>\\tArita Mana Angelina</th>\n",
              "      <td>100</td>\n",
              "    </tr>\n",
              "    <tr>\n",
              "      <th>\\tShi Xintong</th>\n",
              "      <td>100</td>\n",
              "    </tr>\n",
              "    <tr>\n",
              "      <th>Zhang Tongxi</th>\n",
              "      <td>100</td>\n",
              "    </tr>\n",
              "    <tr>\n",
              "      <th>Andrew Wang</th>\n",
              "      <td>50</td>\n",
              "    </tr>\n",
              "  </tbody>\n",
              "</table>\n",
              "</div>"
            ],
            "text/plain": [
              "                       Score\n",
              "Name                        \n",
              "Juri Mikoshiba          3000\n",
              "Manato Tanaka           3000\n",
              "\\tTyler Glanville       1350\n",
              "\\n\\t\\nDivyansh Gupta    1100\n",
              "Shoukei Hada             250\n",
              "\\nOta Horii              200\n",
              "\\tYuvraj Jadia           100\n",
              "\\tArita Mana Angelina    100\n",
              "\\tShi Xintong            100\n",
              "Zhang Tongxi             100\n",
              "Andrew Wang               50"
            ]
          },
          "metadata": {},
          "execution_count": 94
        }
      ]
    },
    {
      "cell_type": "code",
      "metadata": {
        "id": "AUxWupAZX1kp"
      },
      "source": [
        "df1 = df.copy(deep=True)"
      ],
      "execution_count": null,
      "outputs": []
    },
    {
      "cell_type": "code",
      "metadata": {
        "colab": {
          "base_uri": "https://localhost:8080/",
          "height": 425
        },
        "id": "PQrbnR8vYDXd",
        "outputId": "6f5bfe55-ead5-4543-eb10-5084fde2dbf8"
      },
      "source": [
        "df1"
      ],
      "execution_count": null,
      "outputs": [
        {
          "output_type": "execute_result",
          "data": {
            "text/html": [
              "<div>\n",
              "<style scoped>\n",
              "    .dataframe tbody tr th:only-of-type {\n",
              "        vertical-align: middle;\n",
              "    }\n",
              "\n",
              "    .dataframe tbody tr th {\n",
              "        vertical-align: top;\n",
              "    }\n",
              "\n",
              "    .dataframe thead th {\n",
              "        text-align: right;\n",
              "    }\n",
              "</style>\n",
              "<table border=\"1\" class=\"dataframe\">\n",
              "  <thead>\n",
              "    <tr style=\"text-align: right;\">\n",
              "      <th></th>\n",
              "      <th>Score</th>\n",
              "    </tr>\n",
              "    <tr>\n",
              "      <th>Name</th>\n",
              "      <th></th>\n",
              "    </tr>\n",
              "  </thead>\n",
              "  <tbody>\n",
              "    <tr>\n",
              "      <th>Juri Mikoshiba</th>\n",
              "      <td>3000</td>\n",
              "    </tr>\n",
              "    <tr>\n",
              "      <th>Manato Tanaka</th>\n",
              "      <td>3000</td>\n",
              "    </tr>\n",
              "    <tr>\n",
              "      <th>\\tTyler Glanville</th>\n",
              "      <td>1350</td>\n",
              "    </tr>\n",
              "    <tr>\n",
              "      <th>\\n\\t\\nDivyansh Gupta</th>\n",
              "      <td>1100</td>\n",
              "    </tr>\n",
              "    <tr>\n",
              "      <th>Shoukei Hada</th>\n",
              "      <td>250</td>\n",
              "    </tr>\n",
              "    <tr>\n",
              "      <th>\\nOta Horii</th>\n",
              "      <td>200</td>\n",
              "    </tr>\n",
              "    <tr>\n",
              "      <th>\\tYuvraj Jadia</th>\n",
              "      <td>100</td>\n",
              "    </tr>\n",
              "    <tr>\n",
              "      <th>\\tArita Mana Angelina</th>\n",
              "      <td>100</td>\n",
              "    </tr>\n",
              "    <tr>\n",
              "      <th>\\tShi Xintong</th>\n",
              "      <td>100</td>\n",
              "    </tr>\n",
              "    <tr>\n",
              "      <th>Zhang Tongxi</th>\n",
              "      <td>100</td>\n",
              "    </tr>\n",
              "    <tr>\n",
              "      <th>Andrew Wang</th>\n",
              "      <td>50</td>\n",
              "    </tr>\n",
              "  </tbody>\n",
              "</table>\n",
              "</div>"
            ],
            "text/plain": [
              "                       Score\n",
              "Name                        \n",
              "Juri Mikoshiba          3000\n",
              "Manato Tanaka           3000\n",
              "\\tTyler Glanville       1350\n",
              "\\n\\t\\nDivyansh Gupta    1100\n",
              "Shoukei Hada             250\n",
              "\\nOta Horii              200\n",
              "\\tYuvraj Jadia           100\n",
              "\\tArita Mana Angelina    100\n",
              "\\tShi Xintong            100\n",
              "Zhang Tongxi             100\n",
              "Andrew Wang               50"
            ]
          },
          "metadata": {},
          "execution_count": 101
        }
      ]
    },
    {
      "cell_type": "code",
      "metadata": {
        "colab": {
          "base_uri": "https://localhost:8080/"
        },
        "id": "VzjJ0k3dW-fM",
        "outputId": "735be946-82eb-4060-874f-6ba3f29bf23a"
      },
      "source": [
        "df1 = clean_df(df1)"
      ],
      "execution_count": null,
      "outputs": [
        {
          "output_type": "stream",
          "name": "stdout",
          "text": [
            "0\n",
            "1\n",
            "2\n",
            "3\n",
            "4\n",
            "5\n",
            "6\n",
            "7\n",
            "8\n",
            "9\n",
            "10\n",
            "['Juri Mikoshiba', 'Manato Tanaka ', 'Tyler Glanville', 'Divyansh Gupta', 'Shoukei Hada', 'Ota Horii', 'Yuvraj Jadia', 'Arita Mana Angelina', 'Shi Xintong', 'Zhang Tongxi', 'Andrew Wang']\n",
            "Empty DataFrame\n",
            "Columns: []\n",
            "Index: [3000, 3000, 1350, 1100, 250, 200, 100, 100, 100, 100, 50]\n",
            "                      Name\n",
            "Score                     \n",
            "3000        Juri Mikoshiba\n",
            "3000        Manato Tanaka \n",
            "1350       Tyler Glanville\n",
            "1100        Divyansh Gupta\n",
            "250           Shoukei Hada\n",
            "200              Ota Horii\n",
            "100           Yuvraj Jadia\n",
            "100    Arita Mana Angelina\n",
            "100            Shi Xintong\n",
            "100           Zhang Tongxi\n",
            "50             Andrew Wang\n",
            "Empty DataFrame\n",
            "Columns: []\n",
            "Index: [Juri Mikoshiba, Manato Tanaka , Tyler Glanville, Divyansh Gupta, Shoukei Hada, Ota Horii, Yuvraj Jadia, Arita Mana Angelina, Shi Xintong, Zhang Tongxi, Andrew Wang]\n"
          ]
        }
      ]
    },
    {
      "cell_type": "code",
      "metadata": {
        "colab": {
          "base_uri": "https://localhost:8080/",
          "height": 425
        },
        "id": "YP6Qm8zRYWqJ",
        "outputId": "b95b8c57-e098-42e4-adf7-bc605d578d6a"
      },
      "source": [
        "df1"
      ],
      "execution_count": null,
      "outputs": [
        {
          "output_type": "execute_result",
          "data": {
            "text/html": [
              "<div>\n",
              "<style scoped>\n",
              "    .dataframe tbody tr th:only-of-type {\n",
              "        vertical-align: middle;\n",
              "    }\n",
              "\n",
              "    .dataframe tbody tr th {\n",
              "        vertical-align: top;\n",
              "    }\n",
              "\n",
              "    .dataframe thead th {\n",
              "        text-align: right;\n",
              "    }\n",
              "</style>\n",
              "<table border=\"1\" class=\"dataframe\">\n",
              "  <thead>\n",
              "    <tr style=\"text-align: right;\">\n",
              "      <th></th>\n",
              "      <th>Score</th>\n",
              "    </tr>\n",
              "    <tr>\n",
              "      <th>Name</th>\n",
              "      <th></th>\n",
              "    </tr>\n",
              "  </thead>\n",
              "  <tbody>\n",
              "    <tr>\n",
              "      <th>Juri Mikoshiba</th>\n",
              "      <td>3000</td>\n",
              "    </tr>\n",
              "    <tr>\n",
              "      <th>Manato Tanaka</th>\n",
              "      <td>3000</td>\n",
              "    </tr>\n",
              "    <tr>\n",
              "      <th>Tyler Glanville</th>\n",
              "      <td>1350</td>\n",
              "    </tr>\n",
              "    <tr>\n",
              "      <th>Divyansh Gupta</th>\n",
              "      <td>1100</td>\n",
              "    </tr>\n",
              "    <tr>\n",
              "      <th>Shoukei Hada</th>\n",
              "      <td>250</td>\n",
              "    </tr>\n",
              "    <tr>\n",
              "      <th>Ota Horii</th>\n",
              "      <td>200</td>\n",
              "    </tr>\n",
              "    <tr>\n",
              "      <th>Yuvraj Jadia</th>\n",
              "      <td>100</td>\n",
              "    </tr>\n",
              "    <tr>\n",
              "      <th>Arita Mana Angelina</th>\n",
              "      <td>100</td>\n",
              "    </tr>\n",
              "    <tr>\n",
              "      <th>Shi Xintong</th>\n",
              "      <td>100</td>\n",
              "    </tr>\n",
              "    <tr>\n",
              "      <th>Zhang Tongxi</th>\n",
              "      <td>100</td>\n",
              "    </tr>\n",
              "    <tr>\n",
              "      <th>Andrew Wang</th>\n",
              "      <td>50</td>\n",
              "    </tr>\n",
              "  </tbody>\n",
              "</table>\n",
              "</div>"
            ],
            "text/plain": [
              "                     Score\n",
              "Name                      \n",
              "Juri Mikoshiba        3000\n",
              "Manato Tanaka         3000\n",
              "Tyler Glanville       1350\n",
              "Divyansh Gupta        1100\n",
              "Shoukei Hada           250\n",
              "Ota Horii              200\n",
              "Yuvraj Jadia           100\n",
              "Arita Mana Angelina    100\n",
              "Shi Xintong            100\n",
              "Zhang Tongxi           100\n",
              "Andrew Wang             50"
            ]
          },
          "metadata": {},
          "execution_count": 103
        }
      ]
    },
    {
      "cell_type": "code",
      "metadata": {
        "colab": {
          "base_uri": "https://localhost:8080/"
        },
        "id": "nM9w22ctUnDb",
        "outputId": "c8f63d3a-a6e7-4d53-87f9-2aa90b222e86"
      },
      "source": [
        "indexes"
      ],
      "execution_count": null,
      "outputs": [
        {
          "output_type": "execute_result",
          "data": {
            "text/plain": [
              "['Juri Mikoshiba',\n",
              " 'Manato Tanaka ',\n",
              " 'Tyler Glanville',\n",
              " 'Divyansh Gupta',\n",
              " 'Shoukei Hada',\n",
              " 'Ota Horii',\n",
              " 'Yuvraj Jadia',\n",
              " 'Arita Mana Angelina',\n",
              " 'Shi Xintong',\n",
              " 'Zhang Tongxi',\n",
              " 'Andrew Wang']"
            ]
          },
          "metadata": {},
          "execution_count": 43
        }
      ]
    },
    {
      "cell_type": "code",
      "metadata": {
        "colab": {
          "base_uri": "https://localhost:8080/",
          "height": 311
        },
        "id": "kAOlljseVtaW",
        "outputId": "7d4c7465-fb67-4a47-c091-55db79b781c5"
      },
      "source": [
        ""
      ],
      "execution_count": null,
      "outputs": [
        {
          "output_type": "error",
          "ename": "KeyError",
          "evalue": "ignored",
          "traceback": [
            "\u001b[0;31m---------------------------------------------------------------------------\u001b[0m",
            "\u001b[0;31mKeyError\u001b[0m                                  Traceback (most recent call last)",
            "\u001b[0;32m<ipython-input-50-0cdde5a9c224>\u001b[0m in \u001b[0;36m<module>\u001b[0;34m()\u001b[0m\n\u001b[0;32m----> 1\u001b[0;31m \u001b[0mdf\u001b[0m\u001b[0;34m.\u001b[0m\u001b[0mdrop\u001b[0m\u001b[0;34m(\u001b[0m\u001b[0mlabels\u001b[0m\u001b[0;34m=\u001b[0m\u001b[0;34m\"Name\"\u001b[0m\u001b[0;34m,\u001b[0m\u001b[0maxis\u001b[0m\u001b[0;34m=\u001b[0m\u001b[0;36m0\u001b[0m\u001b[0;34m)\u001b[0m\u001b[0;34m\u001b[0m\u001b[0;34m\u001b[0m\u001b[0m\n\u001b[0m",
            "\u001b[0;32m/usr/local/lib/python3.7/dist-packages/pandas/core/frame.py\u001b[0m in \u001b[0;36mdrop\u001b[0;34m(self, labels, axis, index, columns, level, inplace, errors)\u001b[0m\n\u001b[1;32m   4172\u001b[0m             \u001b[0mlevel\u001b[0m\u001b[0;34m=\u001b[0m\u001b[0mlevel\u001b[0m\u001b[0;34m,\u001b[0m\u001b[0;34m\u001b[0m\u001b[0;34m\u001b[0m\u001b[0m\n\u001b[1;32m   4173\u001b[0m             \u001b[0minplace\u001b[0m\u001b[0;34m=\u001b[0m\u001b[0minplace\u001b[0m\u001b[0;34m,\u001b[0m\u001b[0;34m\u001b[0m\u001b[0;34m\u001b[0m\u001b[0m\n\u001b[0;32m-> 4174\u001b[0;31m             \u001b[0merrors\u001b[0m\u001b[0;34m=\u001b[0m\u001b[0merrors\u001b[0m\u001b[0;34m,\u001b[0m\u001b[0;34m\u001b[0m\u001b[0;34m\u001b[0m\u001b[0m\n\u001b[0m\u001b[1;32m   4175\u001b[0m         )\n\u001b[1;32m   4176\u001b[0m \u001b[0;34m\u001b[0m\u001b[0m\n",
            "\u001b[0;32m/usr/local/lib/python3.7/dist-packages/pandas/core/generic.py\u001b[0m in \u001b[0;36mdrop\u001b[0;34m(self, labels, axis, index, columns, level, inplace, errors)\u001b[0m\n\u001b[1;32m   3887\u001b[0m         \u001b[0;32mfor\u001b[0m \u001b[0maxis\u001b[0m\u001b[0;34m,\u001b[0m \u001b[0mlabels\u001b[0m \u001b[0;32min\u001b[0m \u001b[0maxes\u001b[0m\u001b[0;34m.\u001b[0m\u001b[0mitems\u001b[0m\u001b[0;34m(\u001b[0m\u001b[0;34m)\u001b[0m\u001b[0;34m:\u001b[0m\u001b[0;34m\u001b[0m\u001b[0;34m\u001b[0m\u001b[0m\n\u001b[1;32m   3888\u001b[0m             \u001b[0;32mif\u001b[0m \u001b[0mlabels\u001b[0m \u001b[0;32mis\u001b[0m \u001b[0;32mnot\u001b[0m \u001b[0;32mNone\u001b[0m\u001b[0;34m:\u001b[0m\u001b[0;34m\u001b[0m\u001b[0;34m\u001b[0m\u001b[0m\n\u001b[0;32m-> 3889\u001b[0;31m                 \u001b[0mobj\u001b[0m \u001b[0;34m=\u001b[0m \u001b[0mobj\u001b[0m\u001b[0;34m.\u001b[0m\u001b[0m_drop_axis\u001b[0m\u001b[0;34m(\u001b[0m\u001b[0mlabels\u001b[0m\u001b[0;34m,\u001b[0m \u001b[0maxis\u001b[0m\u001b[0;34m,\u001b[0m \u001b[0mlevel\u001b[0m\u001b[0;34m=\u001b[0m\u001b[0mlevel\u001b[0m\u001b[0;34m,\u001b[0m \u001b[0merrors\u001b[0m\u001b[0;34m=\u001b[0m\u001b[0merrors\u001b[0m\u001b[0;34m)\u001b[0m\u001b[0;34m\u001b[0m\u001b[0;34m\u001b[0m\u001b[0m\n\u001b[0m\u001b[1;32m   3890\u001b[0m \u001b[0;34m\u001b[0m\u001b[0m\n\u001b[1;32m   3891\u001b[0m         \u001b[0;32mif\u001b[0m \u001b[0minplace\u001b[0m\u001b[0;34m:\u001b[0m\u001b[0;34m\u001b[0m\u001b[0;34m\u001b[0m\u001b[0m\n",
            "\u001b[0;32m/usr/local/lib/python3.7/dist-packages/pandas/core/generic.py\u001b[0m in \u001b[0;36m_drop_axis\u001b[0;34m(self, labels, axis, level, errors)\u001b[0m\n\u001b[1;32m   3921\u001b[0m                 \u001b[0mnew_axis\u001b[0m \u001b[0;34m=\u001b[0m \u001b[0maxis\u001b[0m\u001b[0;34m.\u001b[0m\u001b[0mdrop\u001b[0m\u001b[0;34m(\u001b[0m\u001b[0mlabels\u001b[0m\u001b[0;34m,\u001b[0m \u001b[0mlevel\u001b[0m\u001b[0;34m=\u001b[0m\u001b[0mlevel\u001b[0m\u001b[0;34m,\u001b[0m \u001b[0merrors\u001b[0m\u001b[0;34m=\u001b[0m\u001b[0merrors\u001b[0m\u001b[0;34m)\u001b[0m\u001b[0;34m\u001b[0m\u001b[0;34m\u001b[0m\u001b[0m\n\u001b[1;32m   3922\u001b[0m             \u001b[0;32melse\u001b[0m\u001b[0;34m:\u001b[0m\u001b[0;34m\u001b[0m\u001b[0;34m\u001b[0m\u001b[0m\n\u001b[0;32m-> 3923\u001b[0;31m                 \u001b[0mnew_axis\u001b[0m \u001b[0;34m=\u001b[0m \u001b[0maxis\u001b[0m\u001b[0;34m.\u001b[0m\u001b[0mdrop\u001b[0m\u001b[0;34m(\u001b[0m\u001b[0mlabels\u001b[0m\u001b[0;34m,\u001b[0m \u001b[0merrors\u001b[0m\u001b[0;34m=\u001b[0m\u001b[0merrors\u001b[0m\u001b[0;34m)\u001b[0m\u001b[0;34m\u001b[0m\u001b[0;34m\u001b[0m\u001b[0m\n\u001b[0m\u001b[1;32m   3924\u001b[0m             \u001b[0mresult\u001b[0m \u001b[0;34m=\u001b[0m \u001b[0mself\u001b[0m\u001b[0;34m.\u001b[0m\u001b[0mreindex\u001b[0m\u001b[0;34m(\u001b[0m\u001b[0;34m**\u001b[0m\u001b[0;34m{\u001b[0m\u001b[0maxis_name\u001b[0m\u001b[0;34m:\u001b[0m \u001b[0mnew_axis\u001b[0m\u001b[0;34m}\u001b[0m\u001b[0;34m)\u001b[0m\u001b[0;34m\u001b[0m\u001b[0;34m\u001b[0m\u001b[0m\n\u001b[1;32m   3925\u001b[0m \u001b[0;34m\u001b[0m\u001b[0m\n",
            "\u001b[0;32m/usr/local/lib/python3.7/dist-packages/pandas/core/indexes/base.py\u001b[0m in \u001b[0;36mdrop\u001b[0;34m(self, labels, errors)\u001b[0m\n\u001b[1;32m   5285\u001b[0m         \u001b[0;32mif\u001b[0m \u001b[0mmask\u001b[0m\u001b[0;34m.\u001b[0m\u001b[0many\u001b[0m\u001b[0;34m(\u001b[0m\u001b[0;34m)\u001b[0m\u001b[0;34m:\u001b[0m\u001b[0;34m\u001b[0m\u001b[0;34m\u001b[0m\u001b[0m\n\u001b[1;32m   5286\u001b[0m             \u001b[0;32mif\u001b[0m \u001b[0merrors\u001b[0m \u001b[0;34m!=\u001b[0m \u001b[0;34m\"ignore\"\u001b[0m\u001b[0;34m:\u001b[0m\u001b[0;34m\u001b[0m\u001b[0;34m\u001b[0m\u001b[0m\n\u001b[0;32m-> 5287\u001b[0;31m                 \u001b[0;32mraise\u001b[0m \u001b[0mKeyError\u001b[0m\u001b[0;34m(\u001b[0m\u001b[0;34mf\"{labels[mask]} not found in axis\"\u001b[0m\u001b[0;34m)\u001b[0m\u001b[0;34m\u001b[0m\u001b[0;34m\u001b[0m\u001b[0m\n\u001b[0m\u001b[1;32m   5288\u001b[0m             \u001b[0mindexer\u001b[0m \u001b[0;34m=\u001b[0m \u001b[0mindexer\u001b[0m\u001b[0;34m[\u001b[0m\u001b[0;34m~\u001b[0m\u001b[0mmask\u001b[0m\u001b[0;34m]\u001b[0m\u001b[0;34m\u001b[0m\u001b[0;34m\u001b[0m\u001b[0m\n\u001b[1;32m   5289\u001b[0m         \u001b[0;32mreturn\u001b[0m \u001b[0mself\u001b[0m\u001b[0;34m.\u001b[0m\u001b[0mdelete\u001b[0m\u001b[0;34m(\u001b[0m\u001b[0mindexer\u001b[0m\u001b[0;34m)\u001b[0m\u001b[0;34m\u001b[0m\u001b[0;34m\u001b[0m\u001b[0m\n",
            "\u001b[0;31mKeyError\u001b[0m: \"['Name'] not found in axis\""
          ]
        }
      ]
    },
    {
      "cell_type": "code",
      "metadata": {
        "colab": {
          "base_uri": "https://localhost:8080/",
          "height": 425
        },
        "id": "CoNoGDE-Vv7C",
        "outputId": "ae2cccae-c819-4a80-c443-17a2f5c05979"
      },
      "source": [
        "df"
      ],
      "execution_count": null,
      "outputs": [
        {
          "output_type": "execute_result",
          "data": {
            "text/html": [
              "<div>\n",
              "<style scoped>\n",
              "    .dataframe tbody tr th:only-of-type {\n",
              "        vertical-align: middle;\n",
              "    }\n",
              "\n",
              "    .dataframe tbody tr th {\n",
              "        vertical-align: top;\n",
              "    }\n",
              "\n",
              "    .dataframe thead th {\n",
              "        text-align: right;\n",
              "    }\n",
              "</style>\n",
              "<table border=\"1\" class=\"dataframe\">\n",
              "  <thead>\n",
              "    <tr style=\"text-align: right;\">\n",
              "      <th></th>\n",
              "      <th>Score</th>\n",
              "    </tr>\n",
              "    <tr>\n",
              "      <th>Name</th>\n",
              "      <th></th>\n",
              "    </tr>\n",
              "  </thead>\n",
              "  <tbody>\n",
              "    <tr>\n",
              "      <th>Juri Mikoshiba</th>\n",
              "      <td>3000</td>\n",
              "    </tr>\n",
              "    <tr>\n",
              "      <th>Manato Tanaka</th>\n",
              "      <td>3000</td>\n",
              "    </tr>\n",
              "    <tr>\n",
              "      <th>\\tTyler Glanville</th>\n",
              "      <td>1350</td>\n",
              "    </tr>\n",
              "    <tr>\n",
              "      <th>\\n\\t\\nDivyansh Gupta</th>\n",
              "      <td>1100</td>\n",
              "    </tr>\n",
              "    <tr>\n",
              "      <th>Shoukei Hada</th>\n",
              "      <td>250</td>\n",
              "    </tr>\n",
              "    <tr>\n",
              "      <th>\\nOta Horii</th>\n",
              "      <td>200</td>\n",
              "    </tr>\n",
              "    <tr>\n",
              "      <th>\\tYuvraj Jadia</th>\n",
              "      <td>100</td>\n",
              "    </tr>\n",
              "    <tr>\n",
              "      <th>\\tArita Mana Angelina</th>\n",
              "      <td>100</td>\n",
              "    </tr>\n",
              "    <tr>\n",
              "      <th>\\tShi Xintong</th>\n",
              "      <td>100</td>\n",
              "    </tr>\n",
              "    <tr>\n",
              "      <th>Zhang Tongxi</th>\n",
              "      <td>100</td>\n",
              "    </tr>\n",
              "    <tr>\n",
              "      <th>Andrew Wang</th>\n",
              "      <td>50</td>\n",
              "    </tr>\n",
              "  </tbody>\n",
              "</table>\n",
              "</div>"
            ],
            "text/plain": [
              "                       Score\n",
              "Name                        \n",
              "Juri Mikoshiba          3000\n",
              "Manato Tanaka           3000\n",
              "\\tTyler Glanville       1350\n",
              "\\n\\t\\nDivyansh Gupta    1100\n",
              "Shoukei Hada             250\n",
              "\\nOta Horii              200\n",
              "\\tYuvraj Jadia           100\n",
              "\\tArita Mana Angelina    100\n",
              "\\tShi Xintong            100\n",
              "Zhang Tongxi             100\n",
              "Andrew Wang               50"
            ]
          },
          "metadata": {},
          "execution_count": 48
        }
      ]
    },
    {
      "cell_type": "code",
      "metadata": {
        "id": "GF8V6GsaVX03"
      },
      "source": [
        ""
      ],
      "execution_count": null,
      "outputs": []
    },
    {
      "cell_type": "code",
      "metadata": {
        "colab": {
          "base_uri": "https://localhost:8080/",
          "height": 311
        },
        "id": "fRIUtH-WVbpJ",
        "outputId": "0955ba7f-6681-4024-f503-832f96b4bc46"
      },
      "source": [
        ""
      ],
      "execution_count": null,
      "outputs": [
        {
          "output_type": "error",
          "ename": "TypeError",
          "evalue": "ignored",
          "traceback": [
            "\u001b[0;31m---------------------------------------------------------------------------\u001b[0m",
            "\u001b[0;31mTypeError\u001b[0m                                 Traceback (most recent call last)",
            "\u001b[0;32m<ipython-input-46-e45d045aef74>\u001b[0m in \u001b[0;36m<module>\u001b[0;34m()\u001b[0m\n\u001b[0;32m----> 1\u001b[0;31m \u001b[0mdf\u001b[0m\u001b[0;34m.\u001b[0m\u001b[0mrename\u001b[0m\u001b[0;34m(\u001b[0m\u001b[0mindex\u001b[0m\u001b[0;34m=\u001b[0m\u001b[0midx\u001b[0m\u001b[0;34m)\u001b[0m\u001b[0;34m\u001b[0m\u001b[0;34m\u001b[0m\u001b[0m\n\u001b[0m",
            "\u001b[0;32m/usr/local/lib/python3.7/dist-packages/pandas/util/_decorators.py\u001b[0m in \u001b[0;36mwrapper\u001b[0;34m(*args, **kwargs)\u001b[0m\n\u001b[1;32m    307\u001b[0m         \u001b[0;34m@\u001b[0m\u001b[0mwraps\u001b[0m\u001b[0;34m(\u001b[0m\u001b[0mfunc\u001b[0m\u001b[0;34m)\u001b[0m\u001b[0;34m\u001b[0m\u001b[0;34m\u001b[0m\u001b[0m\n\u001b[1;32m    308\u001b[0m         \u001b[0;32mdef\u001b[0m \u001b[0mwrapper\u001b[0m\u001b[0;34m(\u001b[0m\u001b[0;34m*\u001b[0m\u001b[0margs\u001b[0m\u001b[0;34m,\u001b[0m \u001b[0;34m**\u001b[0m\u001b[0mkwargs\u001b[0m\u001b[0;34m)\u001b[0m \u001b[0;34m->\u001b[0m \u001b[0mCallable\u001b[0m\u001b[0;34m[\u001b[0m\u001b[0;34m...\u001b[0m\u001b[0;34m,\u001b[0m \u001b[0mAny\u001b[0m\u001b[0;34m]\u001b[0m\u001b[0;34m:\u001b[0m\u001b[0;34m\u001b[0m\u001b[0;34m\u001b[0m\u001b[0m\n\u001b[0;32m--> 309\u001b[0;31m             \u001b[0;32mreturn\u001b[0m \u001b[0mfunc\u001b[0m\u001b[0;34m(\u001b[0m\u001b[0;34m*\u001b[0m\u001b[0margs\u001b[0m\u001b[0;34m,\u001b[0m \u001b[0;34m**\u001b[0m\u001b[0mkwargs\u001b[0m\u001b[0;34m)\u001b[0m\u001b[0;34m\u001b[0m\u001b[0;34m\u001b[0m\u001b[0m\n\u001b[0m\u001b[1;32m    310\u001b[0m \u001b[0;34m\u001b[0m\u001b[0m\n\u001b[1;32m    311\u001b[0m         \u001b[0mkind\u001b[0m \u001b[0;34m=\u001b[0m \u001b[0minspect\u001b[0m\u001b[0;34m.\u001b[0m\u001b[0mParameter\u001b[0m\u001b[0;34m.\u001b[0m\u001b[0mPOSITIONAL_OR_KEYWORD\u001b[0m\u001b[0;34m\u001b[0m\u001b[0;34m\u001b[0m\u001b[0m\n",
            "\u001b[0;32m/usr/local/lib/python3.7/dist-packages/pandas/core/frame.py\u001b[0m in \u001b[0;36mrename\u001b[0;34m(self, mapper, index, columns, axis, copy, inplace, level, errors)\u001b[0m\n\u001b[1;32m   4306\u001b[0m             \u001b[0minplace\u001b[0m\u001b[0;34m=\u001b[0m\u001b[0minplace\u001b[0m\u001b[0;34m,\u001b[0m\u001b[0;34m\u001b[0m\u001b[0;34m\u001b[0m\u001b[0m\n\u001b[1;32m   4307\u001b[0m             \u001b[0mlevel\u001b[0m\u001b[0;34m=\u001b[0m\u001b[0mlevel\u001b[0m\u001b[0;34m,\u001b[0m\u001b[0;34m\u001b[0m\u001b[0;34m\u001b[0m\u001b[0m\n\u001b[0;32m-> 4308\u001b[0;31m             \u001b[0merrors\u001b[0m\u001b[0;34m=\u001b[0m\u001b[0merrors\u001b[0m\u001b[0;34m,\u001b[0m\u001b[0;34m\u001b[0m\u001b[0;34m\u001b[0m\u001b[0m\n\u001b[0m\u001b[1;32m   4309\u001b[0m         )\n\u001b[1;32m   4310\u001b[0m \u001b[0;34m\u001b[0m\u001b[0m\n",
            "\u001b[0;32m/usr/local/lib/python3.7/dist-packages/pandas/core/generic.py\u001b[0m in \u001b[0;36mrename\u001b[0;34m(self, mapper, index, columns, axis, copy, inplace, level, errors)\u001b[0m\n\u001b[1;32m    945\u001b[0m                     \u001b[0;32mraise\u001b[0m \u001b[0mKeyError\u001b[0m\u001b[0;34m(\u001b[0m\u001b[0;34mf\"{missing_labels} not found in axis\"\u001b[0m\u001b[0;34m)\u001b[0m\u001b[0;34m\u001b[0m\u001b[0;34m\u001b[0m\u001b[0m\n\u001b[1;32m    946\u001b[0m \u001b[0;34m\u001b[0m\u001b[0m\n\u001b[0;32m--> 947\u001b[0;31m             \u001b[0mnew_index\u001b[0m \u001b[0;34m=\u001b[0m \u001b[0max\u001b[0m\u001b[0;34m.\u001b[0m\u001b[0m_transform_index\u001b[0m\u001b[0;34m(\u001b[0m\u001b[0mf\u001b[0m\u001b[0;34m,\u001b[0m \u001b[0mlevel\u001b[0m\u001b[0;34m)\u001b[0m\u001b[0;34m\u001b[0m\u001b[0;34m\u001b[0m\u001b[0m\n\u001b[0m\u001b[1;32m    948\u001b[0m             \u001b[0mresult\u001b[0m\u001b[0;34m.\u001b[0m\u001b[0mset_axis\u001b[0m\u001b[0;34m(\u001b[0m\u001b[0mnew_index\u001b[0m\u001b[0;34m,\u001b[0m \u001b[0maxis\u001b[0m\u001b[0;34m=\u001b[0m\u001b[0maxis_no\u001b[0m\u001b[0;34m,\u001b[0m \u001b[0minplace\u001b[0m\u001b[0;34m=\u001b[0m\u001b[0;32mTrue\u001b[0m\u001b[0;34m)\u001b[0m\u001b[0;34m\u001b[0m\u001b[0;34m\u001b[0m\u001b[0m\n\u001b[1;32m    949\u001b[0m             \u001b[0mresult\u001b[0m\u001b[0;34m.\u001b[0m\u001b[0m_clear_item_cache\u001b[0m\u001b[0;34m(\u001b[0m\u001b[0;34m)\u001b[0m\u001b[0;34m\u001b[0m\u001b[0;34m\u001b[0m\u001b[0m\n",
            "\u001b[0;32m/usr/local/lib/python3.7/dist-packages/pandas/core/indexes/base.py\u001b[0m in \u001b[0;36m_transform_index\u001b[0;34m(self, func, level)\u001b[0m\n\u001b[1;32m   4834\u001b[0m             \u001b[0;32mreturn\u001b[0m \u001b[0mtype\u001b[0m\u001b[0;34m(\u001b[0m\u001b[0mself\u001b[0m\u001b[0;34m)\u001b[0m\u001b[0;34m.\u001b[0m\u001b[0mfrom_tuples\u001b[0m\u001b[0;34m(\u001b[0m\u001b[0mitems\u001b[0m\u001b[0;34m,\u001b[0m \u001b[0mnames\u001b[0m\u001b[0;34m=\u001b[0m\u001b[0mself\u001b[0m\u001b[0;34m.\u001b[0m\u001b[0mnames\u001b[0m\u001b[0;34m)\u001b[0m\u001b[0;34m\u001b[0m\u001b[0;34m\u001b[0m\u001b[0m\n\u001b[1;32m   4835\u001b[0m         \u001b[0;32melse\u001b[0m\u001b[0;34m:\u001b[0m\u001b[0;34m\u001b[0m\u001b[0;34m\u001b[0m\u001b[0m\n\u001b[0;32m-> 4836\u001b[0;31m             \u001b[0mitems\u001b[0m \u001b[0;34m=\u001b[0m \u001b[0;34m[\u001b[0m\u001b[0mfunc\u001b[0m\u001b[0;34m(\u001b[0m\u001b[0mx\u001b[0m\u001b[0;34m)\u001b[0m \u001b[0;32mfor\u001b[0m \u001b[0mx\u001b[0m \u001b[0;32min\u001b[0m \u001b[0mself\u001b[0m\u001b[0;34m]\u001b[0m\u001b[0;34m\u001b[0m\u001b[0;34m\u001b[0m\u001b[0m\n\u001b[0m\u001b[1;32m   4837\u001b[0m             \u001b[0;32mreturn\u001b[0m \u001b[0mIndex\u001b[0m\u001b[0;34m(\u001b[0m\u001b[0mitems\u001b[0m\u001b[0;34m,\u001b[0m \u001b[0mname\u001b[0m\u001b[0;34m=\u001b[0m\u001b[0mself\u001b[0m\u001b[0;34m.\u001b[0m\u001b[0mname\u001b[0m\u001b[0;34m,\u001b[0m \u001b[0mtupleize_cols\u001b[0m\u001b[0;34m=\u001b[0m\u001b[0;32mFalse\u001b[0m\u001b[0;34m)\u001b[0m\u001b[0;34m\u001b[0m\u001b[0;34m\u001b[0m\u001b[0m\n\u001b[1;32m   4838\u001b[0m \u001b[0;34m\u001b[0m\u001b[0m\n",
            "\u001b[0;32m/usr/local/lib/python3.7/dist-packages/pandas/core/indexes/base.py\u001b[0m in \u001b[0;36m<listcomp>\u001b[0;34m(.0)\u001b[0m\n\u001b[1;32m   4834\u001b[0m             \u001b[0;32mreturn\u001b[0m \u001b[0mtype\u001b[0m\u001b[0;34m(\u001b[0m\u001b[0mself\u001b[0m\u001b[0;34m)\u001b[0m\u001b[0;34m.\u001b[0m\u001b[0mfrom_tuples\u001b[0m\u001b[0;34m(\u001b[0m\u001b[0mitems\u001b[0m\u001b[0;34m,\u001b[0m \u001b[0mnames\u001b[0m\u001b[0;34m=\u001b[0m\u001b[0mself\u001b[0m\u001b[0;34m.\u001b[0m\u001b[0mnames\u001b[0m\u001b[0;34m)\u001b[0m\u001b[0;34m\u001b[0m\u001b[0;34m\u001b[0m\u001b[0m\n\u001b[1;32m   4835\u001b[0m         \u001b[0;32melse\u001b[0m\u001b[0;34m:\u001b[0m\u001b[0;34m\u001b[0m\u001b[0;34m\u001b[0m\u001b[0m\n\u001b[0;32m-> 4836\u001b[0;31m             \u001b[0mitems\u001b[0m \u001b[0;34m=\u001b[0m \u001b[0;34m[\u001b[0m\u001b[0mfunc\u001b[0m\u001b[0;34m(\u001b[0m\u001b[0mx\u001b[0m\u001b[0;34m)\u001b[0m \u001b[0;32mfor\u001b[0m \u001b[0mx\u001b[0m \u001b[0;32min\u001b[0m \u001b[0mself\u001b[0m\u001b[0;34m]\u001b[0m\u001b[0;34m\u001b[0m\u001b[0;34m\u001b[0m\u001b[0m\n\u001b[0m\u001b[1;32m   4837\u001b[0m             \u001b[0;32mreturn\u001b[0m \u001b[0mIndex\u001b[0m\u001b[0;34m(\u001b[0m\u001b[0mitems\u001b[0m\u001b[0;34m,\u001b[0m \u001b[0mname\u001b[0m\u001b[0;34m=\u001b[0m\u001b[0mself\u001b[0m\u001b[0;34m.\u001b[0m\u001b[0mname\u001b[0m\u001b[0;34m,\u001b[0m \u001b[0mtupleize_cols\u001b[0m\u001b[0;34m=\u001b[0m\u001b[0;32mFalse\u001b[0m\u001b[0;34m)\u001b[0m\u001b[0;34m\u001b[0m\u001b[0;34m\u001b[0m\u001b[0m\n\u001b[1;32m   4838\u001b[0m \u001b[0;34m\u001b[0m\u001b[0m\n",
            "\u001b[0;31mTypeError\u001b[0m: 'Index' object is not callable"
          ]
        }
      ]
    },
    {
      "cell_type": "code",
      "metadata": {
        "id": "3RCkRdHHUaYL"
      },
      "source": [
        "df.inde"
      ],
      "execution_count": null,
      "outputs": []
    }
  ]
}